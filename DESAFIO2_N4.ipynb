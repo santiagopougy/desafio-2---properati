{
 "cells": [
  {
   "cell_type": "markdown",
   "id": "conceptual-adapter",
   "metadata": {},
   "source": [
    "<a id=\"section_toc\"></a> \n",
    "## Tabla de Contenidos\n",
    "\n",
    "<a href=\"#section_intro\">Introducción - Importaciones</a>\n",
    "\n",
    "<a href=\"#section_analisis\">Analisis Inicial de  Columnas</a>\n",
    "\n",
    "<a href=\"#section_visual\">Visualizacion relaciones</a>\n",
    "\n",
    "<a href=\"#section_regarg\">Regresión lineal Argentina - SciKit Learn</a>\n",
    "\n",
    "<a href=\"#section_regcaba\">Regresión lineal CABA - SciKit Learn</a>\n",
    "\n",
    "<a href=\"#section_stats\">Regresión lineal - StatsModel</a>\n",
    "\n",
    "<a href=\"#section_regu\">Regularización Ridge y Lasso</a>\n",
    "\n",
    "\n",
    "---"
   ]
  },
  {
   "cell_type": "markdown",
   "id": "composite-crystal",
   "metadata": {},
   "source": [
    "<a id=\"section_intro\"></a>\n",
    "\n",
    "### Introducción - Importaciones\n",
    "\n",
    "[volver a TOC](#section_toc)\n"
   ]
  },
  {
   "cell_type": "code",
   "execution_count": 1,
   "id": "orange-valentine",
   "metadata": {},
   "outputs": [],
   "source": [
    "import pandas as pd\n",
    "import numpy as np\n",
    "import re\n",
    "import seaborn as sns\n",
    "import sklearn\n",
    "from matplotlib import pyplot as plt\n",
    "from sklearn.model_selection import train_test_split\n",
    "from sklearn.model_selection import KFold\n",
    "from sklearn.preprocessing import OneHotEncoder\n",
    "from sklearn.preprocessing import MinMaxScaler\n",
    "from sklearn import linear_model\n",
    "from sklearn import metrics\n",
    "\n",
    "import statsmodels.api as sm\n",
    "from statsmodels.tools import eval_measures\n"
   ]
  },
  {
   "cell_type": "code",
   "execution_count": 2,
   "id": "unauthorized-smell",
   "metadata": {},
   "outputs": [
    {
     "data": {
      "text/html": [
       "<div>\n",
       "<style scoped>\n",
       "    .dataframe tbody tr th:only-of-type {\n",
       "        vertical-align: middle;\n",
       "    }\n",
       "\n",
       "    .dataframe tbody tr th {\n",
       "        vertical-align: top;\n",
       "    }\n",
       "\n",
       "    .dataframe thead th {\n",
       "        text-align: right;\n",
       "    }\n",
       "</style>\n",
       "<table border=\"1\" class=\"dataframe\">\n",
       "  <thead>\n",
       "    <tr style=\"text-align: right;\">\n",
       "      <th></th>\n",
       "      <th>Tipo_Propiedad</th>\n",
       "      <th>Región</th>\n",
       "      <th>Precio</th>\n",
       "      <th>surface_total_in_m2</th>\n",
       "      <th>surface_covered_in_m2</th>\n",
       "      <th>Precio_por_m2</th>\n",
       "      <th>Garage</th>\n",
       "      <th>Estado</th>\n",
       "      <th>Pileta</th>\n",
       "      <th>Balcon</th>\n",
       "      <th>Gimnasio</th>\n",
       "      <th>Quincho</th>\n",
       "      <th>Parrilla</th>\n",
       "      <th>Patio</th>\n",
       "      <th>Lavadero</th>\n",
       "      <th>Amenities</th>\n",
       "      <th>Ambientes</th>\n",
       "      <th>Barrio</th>\n",
       "      <th>dist_subte</th>\n",
       "    </tr>\n",
       "  </thead>\n",
       "  <tbody>\n",
       "    <tr>\n",
       "      <th>0</th>\n",
       "      <td>PH</td>\n",
       "      <td>Capital Federal</td>\n",
       "      <td>62000.0</td>\n",
       "      <td>55.0</td>\n",
       "      <td>40.0</td>\n",
       "      <td>1550.000000</td>\n",
       "      <td>0</td>\n",
       "      <td>0</td>\n",
       "      <td>0</td>\n",
       "      <td>0</td>\n",
       "      <td>0</td>\n",
       "      <td>0</td>\n",
       "      <td>0</td>\n",
       "      <td>0</td>\n",
       "      <td>0</td>\n",
       "      <td>0</td>\n",
       "      <td>NaN</td>\n",
       "      <td>Mataderos</td>\n",
       "      <td>4.781915</td>\n",
       "    </tr>\n",
       "    <tr>\n",
       "      <th>1</th>\n",
       "      <td>apartment</td>\n",
       "      <td>Capital Federal</td>\n",
       "      <td>72000.0</td>\n",
       "      <td>55.0</td>\n",
       "      <td>55.0</td>\n",
       "      <td>1309.090909</td>\n",
       "      <td>0</td>\n",
       "      <td>0</td>\n",
       "      <td>0</td>\n",
       "      <td>0</td>\n",
       "      <td>0</td>\n",
       "      <td>0</td>\n",
       "      <td>0</td>\n",
       "      <td>0</td>\n",
       "      <td>0</td>\n",
       "      <td>0</td>\n",
       "      <td>NaN</td>\n",
       "      <td>Mataderos</td>\n",
       "      <td>5.436760</td>\n",
       "    </tr>\n",
       "    <tr>\n",
       "      <th>2</th>\n",
       "      <td>apartment</td>\n",
       "      <td>Buenos Aires Costa Atlántica</td>\n",
       "      <td>64000.0</td>\n",
       "      <td>35.0</td>\n",
       "      <td>35.0</td>\n",
       "      <td>1828.571429</td>\n",
       "      <td>0</td>\n",
       "      <td>0</td>\n",
       "      <td>0</td>\n",
       "      <td>0</td>\n",
       "      <td>0</td>\n",
       "      <td>0</td>\n",
       "      <td>0</td>\n",
       "      <td>0</td>\n",
       "      <td>0</td>\n",
       "      <td>0</td>\n",
       "      <td>NaN</td>\n",
       "      <td>Centro</td>\n",
       "      <td>0.000000</td>\n",
       "    </tr>\n",
       "    <tr>\n",
       "      <th>3</th>\n",
       "      <td>PH</td>\n",
       "      <td>Bs.As. G.B.A. Zona Norte</td>\n",
       "      <td>130000.0</td>\n",
       "      <td>106.0</td>\n",
       "      <td>78.0</td>\n",
       "      <td>1666.666667</td>\n",
       "      <td>0</td>\n",
       "      <td>0</td>\n",
       "      <td>0</td>\n",
       "      <td>0</td>\n",
       "      <td>0</td>\n",
       "      <td>0</td>\n",
       "      <td>0</td>\n",
       "      <td>0</td>\n",
       "      <td>0</td>\n",
       "      <td>0</td>\n",
       "      <td>NaN</td>\n",
       "      <td>Munro</td>\n",
       "      <td>0.000000</td>\n",
       "    </tr>\n",
       "    <tr>\n",
       "      <th>4</th>\n",
       "      <td>apartment</td>\n",
       "      <td>Capital Federal</td>\n",
       "      <td>138000.0</td>\n",
       "      <td>45.0</td>\n",
       "      <td>40.0</td>\n",
       "      <td>3450.000000</td>\n",
       "      <td>0</td>\n",
       "      <td>0</td>\n",
       "      <td>0</td>\n",
       "      <td>0</td>\n",
       "      <td>0</td>\n",
       "      <td>0</td>\n",
       "      <td>0</td>\n",
       "      <td>0</td>\n",
       "      <td>0</td>\n",
       "      <td>0</td>\n",
       "      <td>NaN</td>\n",
       "      <td>Belgrano</td>\n",
       "      <td>1.068329</td>\n",
       "    </tr>\n",
       "  </tbody>\n",
       "</table>\n",
       "</div>"
      ],
      "text/plain": [
       "  Tipo_Propiedad                        Región    Precio  surface_total_in_m2  \\\n",
       "0             PH               Capital Federal   62000.0                 55.0   \n",
       "1      apartment               Capital Federal   72000.0                 55.0   \n",
       "2      apartment  Buenos Aires Costa Atlántica   64000.0                 35.0   \n",
       "3             PH      Bs.As. G.B.A. Zona Norte  130000.0                106.0   \n",
       "4      apartment               Capital Federal  138000.0                 45.0   \n",
       "\n",
       "   surface_covered_in_m2  Precio_por_m2  Garage  Estado  Pileta  Balcon  \\\n",
       "0                   40.0    1550.000000       0       0       0       0   \n",
       "1                   55.0    1309.090909       0       0       0       0   \n",
       "2                   35.0    1828.571429       0       0       0       0   \n",
       "3                   78.0    1666.666667       0       0       0       0   \n",
       "4                   40.0    3450.000000       0       0       0       0   \n",
       "\n",
       "   Gimnasio  Quincho  Parrilla  Patio  Lavadero  Amenities  Ambientes  \\\n",
       "0         0        0         0      0         0          0        NaN   \n",
       "1         0        0         0      0         0          0        NaN   \n",
       "2         0        0         0      0         0          0        NaN   \n",
       "3         0        0         0      0         0          0        NaN   \n",
       "4         0        0         0      0         0          0        NaN   \n",
       "\n",
       "      Barrio  dist_subte  \n",
       "0  Mataderos    4.781915  \n",
       "1  Mataderos    5.436760  \n",
       "2     Centro    0.000000  \n",
       "3      Munro    0.000000  \n",
       "4   Belgrano    1.068329  "
      ]
     },
     "execution_count": 2,
     "metadata": {},
     "output_type": "execute_result"
    }
   ],
   "source": [
    "data = pd.read_csv('./properati-subtes.csv', sep=',') # Para todo el país\n",
    "data2 = pd.read_csv('./properati-subtes.csv', sep=',') # Para analizar solo CABA\n",
    "data.head(5)"
   ]
  },
  {
   "cell_type": "code",
   "execution_count": 3,
   "id": "synthetic-shoot",
   "metadata": {},
   "outputs": [
    {
     "name": "stdout",
     "output_type": "stream",
     "text": [
      "<class 'pandas.core.frame.DataFrame'>\n",
      "RangeIndex: 82112 entries, 0 to 82111\n",
      "Data columns (total 19 columns):\n",
      " #   Column                 Non-Null Count  Dtype  \n",
      "---  ------                 --------------  -----  \n",
      " 0   Tipo_Propiedad         82112 non-null  object \n",
      " 1   Región                 82112 non-null  object \n",
      " 2   Precio                 82112 non-null  float64\n",
      " 3   surface_total_in_m2    82112 non-null  float64\n",
      " 4   surface_covered_in_m2  82112 non-null  float64\n",
      " 5   Precio_por_m2          82112 non-null  float64\n",
      " 6   Garage                 82112 non-null  int64  \n",
      " 7   Estado                 82112 non-null  int64  \n",
      " 8   Pileta                 82112 non-null  int64  \n",
      " 9   Balcon                 82112 non-null  int64  \n",
      " 10  Gimnasio               82112 non-null  int64  \n",
      " 11  Quincho                82112 non-null  int64  \n",
      " 12  Parrilla               82112 non-null  int64  \n",
      " 13  Patio                  82112 non-null  int64  \n",
      " 14  Lavadero               82112 non-null  int64  \n",
      " 15  Amenities              82112 non-null  int64  \n",
      " 16  Ambientes              27249 non-null  float64\n",
      " 17  Barrio                 82112 non-null  object \n",
      " 18  dist_subte             77624 non-null  float64\n",
      "dtypes: float64(6), int64(10), object(3)\n",
      "memory usage: 11.9+ MB\n"
     ]
    }
   ],
   "source": [
    "data.info()"
   ]
  },
  {
   "cell_type": "markdown",
   "id": "handled-prince",
   "metadata": {},
   "source": [
    "<a id=\"section_analisis\"></a>\n",
    "\n",
    "### Analisis Inicial de  Columnas\n",
    "\n",
    "[volver a TOC](#section_toc)\n"
   ]
  },
  {
   "cell_type": "code",
   "execution_count": 4,
   "id": "auburn-struggle",
   "metadata": {},
   "outputs": [
    {
     "data": {
      "text/plain": [
       "apartment    48803\n",
       "house        26890\n",
       "PH            4227\n",
       "store         2192\n",
       "Name: Tipo_Propiedad, dtype: int64"
      ]
     },
     "execution_count": 4,
     "metadata": {},
     "output_type": "execute_result"
    }
   ],
   "source": [
    "# Tipo_Propiedad: Variable Categórica. No tenemos nulos, puede tener 4 valores posibles.\n",
    "data.Tipo_Propiedad.value_counts()"
   ]
  },
  {
   "cell_type": "code",
   "execution_count": 5,
   "id": "demographic-collins",
   "metadata": {},
   "outputs": [],
   "source": [
    "# Creamos dummies\n",
    "Tipo_Propiedad_dummy = pd.get_dummies(data['Tipo_Propiedad'], prefix= 'Tipo_Propiedad', drop_first=True)\n",
    "data = pd.concat([data, Tipo_Propiedad_dummy], axis=1)"
   ]
  },
  {
   "cell_type": "code",
   "execution_count": 6,
   "id": "changed-evolution",
   "metadata": {},
   "outputs": [
    {
     "name": "stdout",
     "output_type": "stream",
     "text": [
      "<class 'pandas.core.frame.DataFrame'>\n",
      "RangeIndex: 82112 entries, 0 to 82111\n",
      "Data columns (total 22 columns):\n",
      " #   Column                    Non-Null Count  Dtype  \n",
      "---  ------                    --------------  -----  \n",
      " 0   Tipo_Propiedad            82112 non-null  object \n",
      " 1   Región                    82112 non-null  object \n",
      " 2   Precio                    82112 non-null  float64\n",
      " 3   surface_total_in_m2       82112 non-null  float64\n",
      " 4   surface_covered_in_m2     82112 non-null  float64\n",
      " 5   Precio_por_m2             82112 non-null  float64\n",
      " 6   Garage                    82112 non-null  int64  \n",
      " 7   Estado                    82112 non-null  int64  \n",
      " 8   Pileta                    82112 non-null  int64  \n",
      " 9   Balcon                    82112 non-null  int64  \n",
      " 10  Gimnasio                  82112 non-null  int64  \n",
      " 11  Quincho                   82112 non-null  int64  \n",
      " 12  Parrilla                  82112 non-null  int64  \n",
      " 13  Patio                     82112 non-null  int64  \n",
      " 14  Lavadero                  82112 non-null  int64  \n",
      " 15  Amenities                 82112 non-null  int64  \n",
      " 16  Ambientes                 27249 non-null  float64\n",
      " 17  Barrio                    82112 non-null  object \n",
      " 18  dist_subte                77624 non-null  float64\n",
      " 19  Tipo_Propiedad_apartment  82112 non-null  uint8  \n",
      " 20  Tipo_Propiedad_house      82112 non-null  uint8  \n",
      " 21  Tipo_Propiedad_store      82112 non-null  uint8  \n",
      "dtypes: float64(6), int64(10), object(3), uint8(3)\n",
      "memory usage: 12.1+ MB\n"
     ]
    }
   ],
   "source": [
    "#Vemos resultado de Dummies. Vemos que agregó 3 columnas, OK.\n",
    "data.info()"
   ]
  },
  {
   "cell_type": "code",
   "execution_count": 7,
   "id": "historical-salad",
   "metadata": {},
   "outputs": [
    {
     "data": {
      "text/plain": [
       "Mar del Plata              4990\n",
       "Córdoba                    4513\n",
       "Rosario                    4047\n",
       "Tigre                      2914\n",
       "Palermo                    2710\n",
       "                           ... \n",
       "El Calafate                   1\n",
       "Altos de Hudson I             1\n",
       "San Francisco Solano          1\n",
       "Verónica                      1\n",
       "Los Sauces Country Club       1\n",
       "Name: Barrio, Length: 864, dtype: int64"
      ]
     },
     "execution_count": 7,
     "metadata": {},
     "output_type": "execute_result"
    }
   ],
   "source": [
    "# Barrio: Variable Categórica. No tenemos nulos. Al tomar todo Argentina, puede tener 878 valores distintos.\n",
    "# La utilizaremos al hacer foco en alguna región\n",
    "data.Barrio.value_counts()"
   ]
  },
  {
   "cell_type": "code",
   "execution_count": 8,
   "id": "determined-reservation",
   "metadata": {},
   "outputs": [
    {
     "data": {
      "text/plain": [
       "Capital Federal                 23422\n",
       "Bs.As. G.B.A. Zona Norte        20883\n",
       "Bs.As. G.B.A. Zona Sur           9320\n",
       "Buenos Aires Costa Atlántica     7624\n",
       "Bs.As. G.B.A. Zona Oeste         6887\n",
       "Córdoba                          6002\n",
       "Santa Fe                         4526\n",
       "Buenos Aires Interior            1340\n",
       "Corrientes                        422\n",
       "Mendoza                           364\n",
       "Río Negro                         268\n",
       "Neuquén                           235\n",
       "Misiones                          176\n",
       "San Luis                          142\n",
       "Tucumán                           128\n",
       "Chubut                            124\n",
       "Entre Ríos                         81\n",
       "Salta                              63\n",
       "Tierra Del Fuego                   27\n",
       "Chaco                              26\n",
       "La Pampa                           16\n",
       "Catamarca                          15\n",
       "Santa Cruz                          8\n",
       "Formosa                             4\n",
       "San Juan                            4\n",
       "Jujuy                               3\n",
       "La Rioja                            1\n",
       "Santiago Del Estero                 1\n",
       "Name: Región, dtype: int64"
      ]
     },
     "execution_count": 8,
     "metadata": {},
     "output_type": "execute_result"
    }
   ],
   "source": [
    "# Región: Variable Categórica. No tenemos nulos. Al tomar todo Argentina, puede tener 28 valores distintos.\n",
    "data.Región.value_counts()"
   ]
  },
  {
   "cell_type": "code",
   "execution_count": 9,
   "id": "starting-tonight",
   "metadata": {},
   "outputs": [],
   "source": [
    "Region_dummy = pd.get_dummies(data['Región'], drop_first=True)\n",
    "data = pd.concat([data, Region_dummy], axis=1)"
   ]
  },
  {
   "cell_type": "code",
   "execution_count": 10,
   "id": "competent-school",
   "metadata": {},
   "outputs": [
    {
     "name": "stdout",
     "output_type": "stream",
     "text": [
      "<class 'pandas.core.frame.DataFrame'>\n",
      "RangeIndex: 82112 entries, 0 to 82111\n",
      "Data columns (total 49 columns):\n",
      " #   Column                        Non-Null Count  Dtype  \n",
      "---  ------                        --------------  -----  \n",
      " 0   Tipo_Propiedad                82112 non-null  object \n",
      " 1   Región                        82112 non-null  object \n",
      " 2   Precio                        82112 non-null  float64\n",
      " 3   surface_total_in_m2           82112 non-null  float64\n",
      " 4   surface_covered_in_m2         82112 non-null  float64\n",
      " 5   Precio_por_m2                 82112 non-null  float64\n",
      " 6   Garage                        82112 non-null  int64  \n",
      " 7   Estado                        82112 non-null  int64  \n",
      " 8   Pileta                        82112 non-null  int64  \n",
      " 9   Balcon                        82112 non-null  int64  \n",
      " 10  Gimnasio                      82112 non-null  int64  \n",
      " 11  Quincho                       82112 non-null  int64  \n",
      " 12  Parrilla                      82112 non-null  int64  \n",
      " 13  Patio                         82112 non-null  int64  \n",
      " 14  Lavadero                      82112 non-null  int64  \n",
      " 15  Amenities                     82112 non-null  int64  \n",
      " 16  Ambientes                     27249 non-null  float64\n",
      " 17  Barrio                        82112 non-null  object \n",
      " 18  dist_subte                    77624 non-null  float64\n",
      " 19  Tipo_Propiedad_apartment      82112 non-null  uint8  \n",
      " 20  Tipo_Propiedad_house          82112 non-null  uint8  \n",
      " 21  Tipo_Propiedad_store          82112 non-null  uint8  \n",
      " 22  Bs.As. G.B.A. Zona Oeste      82112 non-null  uint8  \n",
      " 23  Bs.As. G.B.A. Zona Sur        82112 non-null  uint8  \n",
      " 24  Buenos Aires Costa Atlántica  82112 non-null  uint8  \n",
      " 25  Buenos Aires Interior         82112 non-null  uint8  \n",
      " 26  Capital Federal               82112 non-null  uint8  \n",
      " 27  Catamarca                     82112 non-null  uint8  \n",
      " 28  Chaco                         82112 non-null  uint8  \n",
      " 29  Chubut                        82112 non-null  uint8  \n",
      " 30  Corrientes                    82112 non-null  uint8  \n",
      " 31  Córdoba                       82112 non-null  uint8  \n",
      " 32  Entre Ríos                    82112 non-null  uint8  \n",
      " 33  Formosa                       82112 non-null  uint8  \n",
      " 34  Jujuy                         82112 non-null  uint8  \n",
      " 35  La Pampa                      82112 non-null  uint8  \n",
      " 36  La Rioja                      82112 non-null  uint8  \n",
      " 37  Mendoza                       82112 non-null  uint8  \n",
      " 38  Misiones                      82112 non-null  uint8  \n",
      " 39  Neuquén                       82112 non-null  uint8  \n",
      " 40  Río Negro                     82112 non-null  uint8  \n",
      " 41  Salta                         82112 non-null  uint8  \n",
      " 42  San Juan                      82112 non-null  uint8  \n",
      " 43  San Luis                      82112 non-null  uint8  \n",
      " 44  Santa Cruz                    82112 non-null  uint8  \n",
      " 45  Santa Fe                      82112 non-null  uint8  \n",
      " 46  Santiago Del Estero           82112 non-null  uint8  \n",
      " 47  Tierra Del Fuego              82112 non-null  uint8  \n",
      " 48  Tucumán                       82112 non-null  uint8  \n",
      "dtypes: float64(6), int64(10), object(3), uint8(30)\n",
      "memory usage: 14.3+ MB\n"
     ]
    }
   ],
   "source": [
    "#Vemos resultado de Dummies. Eran 28 Regiones y creó 27 Dummies.\n",
    "data.info()"
   ]
  },
  {
   "cell_type": "code",
   "execution_count": 11,
   "id": "muslim-failure",
   "metadata": {},
   "outputs": [
    {
     "data": {
      "text/plain": [
       "count      82112.00\n",
       "mean      203825.76\n",
       "std       189665.87\n",
       "min         8412.55\n",
       "25%        90000.00\n",
       "50%       143509.06\n",
       "75%       250000.00\n",
       "max      4600000.00\n",
       "Name: Precio, dtype: float64"
      ]
     },
     "execution_count": 11,
     "metadata": {},
     "output_type": "execute_result"
    }
   ],
   "source": [
    "# Precio: Variable Cuantitativa. No tenemos nulos. Podemos ver las principales variables.\n",
    "data.Precio.describe().round(2)"
   ]
  },
  {
   "cell_type": "code",
   "execution_count": 12,
   "id": "purple-billion",
   "metadata": {},
   "outputs": [
    {
     "name": "stdout",
     "output_type": "stream",
     "text": [
      "count    82112.00\n",
      "mean       166.97\n",
      "std        300.75\n",
      "min         11.00\n",
      "25%         50.00\n",
      "50%         81.00\n",
      "75%        182.00\n",
      "max       9900.00\n",
      "Name: surface_total_in_m2, dtype: float64\n"
     ]
    }
   ],
   "source": [
    "# surface_total_in_m2: Variable Cuantitativa. No tenemos nulos. Podemos ver las principales variables.\n",
    "# no lo estandarizamos ahora, sino que lo haremos luego de separar Train/Test.\n",
    "a = data.surface_total_in_m2.describe().round(2)\n",
    "print(a)\n"
   ]
  },
  {
   "cell_type": "code",
   "execution_count": 13,
   "id": "indie-submission",
   "metadata": {},
   "outputs": [
    {
     "name": "stdout",
     "output_type": "stream",
     "text": [
      "count    82112.00\n",
      "mean       115.39\n",
      "std        113.07\n",
      "min         11.00\n",
      "25%         46.00\n",
      "50%         74.00\n",
      "75%        150.00\n",
      "max       1940.00\n",
      "Name: surface_covered_in_m2, dtype: float64\n"
     ]
    }
   ],
   "source": [
    "# surface_covered_in_m2: Variable Cuantitativa. No tenemos nulos. Podemos ver las principales variables.\n",
    "# no lo estandarizamos ahora, sino que lo haremos luego de separar Train/Test.\n",
    "a = data.surface_covered_in_m2.describe().round(2)\n",
    "\n",
    "print(a)"
   ]
  },
  {
   "cell_type": "code",
   "execution_count": 14,
   "id": "tropical-blink",
   "metadata": {},
   "outputs": [],
   "source": [
    "#numericals = ['surface_total_in_m2', 'surface_covered_in_m2']\n",
    "\n",
    "#X = data[numericals]\n",
    "\n",
    "#scaler = MinMaxScaler()\n",
    "#scaler.fit(X)\n",
    "\n",
    "#std_numerical_data = scaler.transform(X)\n",
    "#std_df = pd.DataFrame(std_numerical_data)\n",
    "#std_df.columns = [i + '_std' for i in numericals]\n",
    "#std_df"
   ]
  },
  {
   "cell_type": "code",
   "execution_count": 15,
   "id": "subject-impact",
   "metadata": {},
   "outputs": [],
   "source": [
    "#data = pd.concat([data, std_df], axis = 1)\n",
    "#data.info()"
   ]
  },
  {
   "cell_type": "code",
   "execution_count": 16,
   "id": "tested-cache",
   "metadata": {},
   "outputs": [
    {
     "data": {
      "text/plain": [
       "count    82112.00\n",
       "mean      2010.49\n",
       "std        813.45\n",
       "min        509.09\n",
       "25%       1400.00\n",
       "50%       1892.03\n",
       "75%       2500.00\n",
       "max       4497.23\n",
       "Name: Precio_por_m2, dtype: float64"
      ]
     },
     "execution_count": 16,
     "metadata": {},
     "output_type": "execute_result"
    }
   ],
   "source": [
    "# Precio_por_m2: Es el precio sobre superficie cubierta.\n",
    "#Variable Cuantitativa. No tenemos nulos. Podemos ver las principales variables. Esta será nuestra variable TARGET.\n",
    "data.Precio_por_m2.describe().round(2)"
   ]
  },
  {
   "cell_type": "code",
   "execution_count": 17,
   "id": "latter-mapping",
   "metadata": {},
   "outputs": [
    {
     "data": {
      "text/plain": [
       "0    63197\n",
       "1    18915\n",
       "Name: Garage, dtype: int64"
      ]
     },
     "execution_count": 17,
     "metadata": {},
     "output_type": "execute_result"
    }
   ],
   "source": [
    "# Garage: Variable Categórica. No tenemos nulos. Puede tener 2 valores solamente. No necesitamos converirla a Dummies.\n",
    "data.Garage.value_counts()"
   ]
  },
  {
   "cell_type": "code",
   "execution_count": 18,
   "id": "prostate-velvet",
   "metadata": {},
   "outputs": [
    {
     "data": {
      "text/plain": [
       "0    77776\n",
       "1     4336\n",
       "Name: Estado, dtype: int64"
      ]
     },
     "execution_count": 18,
     "metadata": {},
     "output_type": "execute_result"
    }
   ],
   "source": [
    "# Estado: Variable Categórica. No tenemos nulos. Puede tener 2 valores solamente. No necesitamos converirla a Dummies.\n",
    "data.Estado.value_counts()"
   ]
  },
  {
   "cell_type": "code",
   "execution_count": 19,
   "id": "nearby-check",
   "metadata": {},
   "outputs": [
    {
     "data": {
      "text/plain": [
       "0    68643\n",
       "1    13469\n",
       "Name: Pileta, dtype: int64"
      ]
     },
     "execution_count": 19,
     "metadata": {},
     "output_type": "execute_result"
    }
   ],
   "source": [
    "# Pileta: Variable Categórica. No tenemos nulos. Puede tener 2 valores solamente. No necesitamos converirla a Dummies.\n",
    "data.Pileta.value_counts()"
   ]
  },
  {
   "cell_type": "code",
   "execution_count": 20,
   "id": "available-diana",
   "metadata": {},
   "outputs": [
    {
     "data": {
      "text/plain": [
       "0    60762\n",
       "1    21350\n",
       "Name: Balcon, dtype: int64"
      ]
     },
     "execution_count": 20,
     "metadata": {},
     "output_type": "execute_result"
    }
   ],
   "source": [
    "# Balcon: Variable Categórica. No tenemos nulos. Puede tener 2 valores solamente. No necesitamos converirla a Dummies.\n",
    "data.Balcon.value_counts()"
   ]
  },
  {
   "cell_type": "code",
   "execution_count": 21,
   "id": "graduate-clock",
   "metadata": {},
   "outputs": [
    {
     "data": {
      "text/plain": [
       "0    78953\n",
       "1     3159\n",
       "Name: Gimnasio, dtype: int64"
      ]
     },
     "execution_count": 21,
     "metadata": {},
     "output_type": "execute_result"
    }
   ],
   "source": [
    "# Gimnasio: Variable Categórica. No tenemos nulos. Puede tener 2 valores solamente. No necesitamos converirla a Dummies.\n",
    "data.Gimnasio.value_counts()"
   ]
  },
  {
   "cell_type": "code",
   "execution_count": 22,
   "id": "confirmed-punishment",
   "metadata": {},
   "outputs": [
    {
     "data": {
      "text/plain": [
       "0    76774\n",
       "1     5338\n",
       "Name: Quincho, dtype: int64"
      ]
     },
     "execution_count": 22,
     "metadata": {},
     "output_type": "execute_result"
    }
   ],
   "source": [
    "# Quincho: Variable Categórica. No tenemos nulos. Puede tener 2 valores solamente. No necesitamos converirla a Dummies.\n",
    "data.Quincho.value_counts()"
   ]
  },
  {
   "cell_type": "code",
   "execution_count": 23,
   "id": "contemporary-tuition",
   "metadata": {},
   "outputs": [
    {
     "data": {
      "text/plain": [
       "0    62040\n",
       "1    20072\n",
       "Name: Parrilla, dtype: int64"
      ]
     },
     "execution_count": 23,
     "metadata": {},
     "output_type": "execute_result"
    }
   ],
   "source": [
    "# Parrilla: Variable Categórica. No tenemos nulos. Puede tener 2 valores solamente. No necesitamos converirla a Dummies.\n",
    "data.Parrilla.value_counts()"
   ]
  },
  {
   "cell_type": "code",
   "execution_count": 24,
   "id": "convertible-appliance",
   "metadata": {},
   "outputs": [
    {
     "data": {
      "text/plain": [
       "0    65343\n",
       "1    16769\n",
       "Name: Patio, dtype: int64"
      ]
     },
     "execution_count": 24,
     "metadata": {},
     "output_type": "execute_result"
    }
   ],
   "source": [
    "# Patio: Variable Categórica. No tenemos nulos. Puede tener 2 valores solamente. No necesitamos converirla a Dummies.\n",
    "data.Patio.value_counts()"
   ]
  },
  {
   "cell_type": "code",
   "execution_count": 25,
   "id": "floral-assembly",
   "metadata": {},
   "outputs": [
    {
     "data": {
      "text/plain": [
       "0    63312\n",
       "1    18800\n",
       "Name: Lavadero, dtype: int64"
      ]
     },
     "execution_count": 25,
     "metadata": {},
     "output_type": "execute_result"
    }
   ],
   "source": [
    "# Lavadero: Variable Categórica. No tenemos nulos. Puede tener 2 valores solamente. No necesitamos converirla a Dummies.\n",
    "data.Lavadero.value_counts()"
   ]
  },
  {
   "cell_type": "code",
   "execution_count": 26,
   "id": "purple-cisco",
   "metadata": {},
   "outputs": [
    {
     "data": {
      "text/plain": [
       "0    33575\n",
       "1    20285\n",
       "2    14173\n",
       "3     8142\n",
       "4     4101\n",
       "5     1545\n",
       "6      266\n",
       "7       25\n",
       "Name: Amenities, dtype: int64"
      ]
     },
     "execution_count": 26,
     "metadata": {},
     "output_type": "execute_result"
    }
   ],
   "source": [
    "# Amenities: Suma la cantidad de ambientes. No tenemos nulos. Puede tener 7 valores distintos.\n",
    "data.Amenities.value_counts()"
   ]
  },
  {
   "cell_type": "code",
   "execution_count": 27,
   "id": "elder-giant",
   "metadata": {},
   "outputs": [
    {
     "data": {
      "text/plain": [
       "2.0     9375\n",
       "3.0     9140\n",
       "4.0     5102\n",
       "1.0     1633\n",
       "5.0     1379\n",
       "6.0      409\n",
       "7.0      159\n",
       "8.0       27\n",
       "9.0       17\n",
       "10.0       8\n",
       "Name: Ambientes, dtype: int64"
      ]
     },
     "execution_count": 27,
     "metadata": {},
     "output_type": "execute_result"
    }
   ],
   "source": [
    "# Ambientes: Variable Categórica. Tiene muchos nulos, por lo que preferimos no inferirla\n",
    "# Probaremos la regresión con y sin esta variable.\n",
    "data.Ambientes.value_counts()"
   ]
  },
  {
   "cell_type": "code",
   "execution_count": 28,
   "id": "north-balance",
   "metadata": {},
   "outputs": [
    {
     "name": "stdout",
     "output_type": "stream",
     "text": [
      "<class 'pandas.core.frame.DataFrame'>\n",
      "RangeIndex: 82112 entries, 0 to 82111\n",
      "Data columns (total 58 columns):\n",
      " #   Column                        Non-Null Count  Dtype  \n",
      "---  ------                        --------------  -----  \n",
      " 0   Tipo_Propiedad                82112 non-null  object \n",
      " 1   Región                        82112 non-null  object \n",
      " 2   Precio                        82112 non-null  float64\n",
      " 3   surface_total_in_m2           82112 non-null  float64\n",
      " 4   surface_covered_in_m2         82112 non-null  float64\n",
      " 5   Precio_por_m2                 82112 non-null  float64\n",
      " 6   Garage                        82112 non-null  int64  \n",
      " 7   Estado                        82112 non-null  int64  \n",
      " 8   Pileta                        82112 non-null  int64  \n",
      " 9   Balcon                        82112 non-null  int64  \n",
      " 10  Gimnasio                      82112 non-null  int64  \n",
      " 11  Quincho                       82112 non-null  int64  \n",
      " 12  Parrilla                      82112 non-null  int64  \n",
      " 13  Patio                         82112 non-null  int64  \n",
      " 14  Lavadero                      82112 non-null  int64  \n",
      " 15  Amenities                     82112 non-null  int64  \n",
      " 16  Ambientes                     27249 non-null  float64\n",
      " 17  Barrio                        82112 non-null  object \n",
      " 18  dist_subte                    77624 non-null  float64\n",
      " 19  Tipo_Propiedad_apartment      82112 non-null  uint8  \n",
      " 20  Tipo_Propiedad_house          82112 non-null  uint8  \n",
      " 21  Tipo_Propiedad_store          82112 non-null  uint8  \n",
      " 22  Bs.As. G.B.A. Zona Oeste      82112 non-null  uint8  \n",
      " 23  Bs.As. G.B.A. Zona Sur        82112 non-null  uint8  \n",
      " 24  Buenos Aires Costa Atlántica  82112 non-null  uint8  \n",
      " 25  Buenos Aires Interior         82112 non-null  uint8  \n",
      " 26  Capital Federal               82112 non-null  uint8  \n",
      " 27  Catamarca                     82112 non-null  uint8  \n",
      " 28  Chaco                         82112 non-null  uint8  \n",
      " 29  Chubut                        82112 non-null  uint8  \n",
      " 30  Corrientes                    82112 non-null  uint8  \n",
      " 31  Córdoba                       82112 non-null  uint8  \n",
      " 32  Entre Ríos                    82112 non-null  uint8  \n",
      " 33  Formosa                       82112 non-null  uint8  \n",
      " 34  Jujuy                         82112 non-null  uint8  \n",
      " 35  La Pampa                      82112 non-null  uint8  \n",
      " 36  La Rioja                      82112 non-null  uint8  \n",
      " 37  Mendoza                       82112 non-null  uint8  \n",
      " 38  Misiones                      82112 non-null  uint8  \n",
      " 39  Neuquén                       82112 non-null  uint8  \n",
      " 40  Río Negro                     82112 non-null  uint8  \n",
      " 41  Salta                         82112 non-null  uint8  \n",
      " 42  San Juan                      82112 non-null  uint8  \n",
      " 43  San Luis                      82112 non-null  uint8  \n",
      " 44  Santa Cruz                    82112 non-null  uint8  \n",
      " 45  Santa Fe                      82112 non-null  uint8  \n",
      " 46  Santiago Del Estero           82112 non-null  uint8  \n",
      " 47  Tierra Del Fuego              82112 non-null  uint8  \n",
      " 48  Tucumán                       82112 non-null  uint8  \n",
      " 49  2.0                           82112 non-null  uint8  \n",
      " 50  3.0                           82112 non-null  uint8  \n",
      " 51  4.0                           82112 non-null  uint8  \n",
      " 52  5.0                           82112 non-null  uint8  \n",
      " 53  6.0                           82112 non-null  uint8  \n",
      " 54  7.0                           82112 non-null  uint8  \n",
      " 55  8.0                           82112 non-null  uint8  \n",
      " 56  9.0                           82112 non-null  uint8  \n",
      " 57  10.0                          82112 non-null  uint8  \n",
      "dtypes: float64(6), int64(10), object(3), uint8(39)\n",
      "memory usage: 15.0+ MB\n"
     ]
    }
   ],
   "source": [
    "Ambientes_dummy = pd.get_dummies(data['Ambientes'], drop_first=True)\n",
    "data = pd.concat([data, Ambientes_dummy], axis=1)\n",
    "data.info()"
   ]
  },
  {
   "cell_type": "code",
   "execution_count": 29,
   "id": "noble-reunion",
   "metadata": {},
   "outputs": [
    {
     "data": {
      "text/plain": [
       "count    77624.00000\n",
       "mean         0.22631\n",
       "std          0.65815\n",
       "min          0.00000\n",
       "25%          0.00000\n",
       "50%          0.00000\n",
       "75%          0.00000\n",
       "max          6.99031\n",
       "Name: dist_subte, dtype: float64"
      ]
     },
     "execution_count": 29,
     "metadata": {},
     "output_type": "execute_result"
    }
   ],
   "source": [
    "# dist_subte: SOLO PARA CABA. Variable Cuantitativa. En CABA tenemos 5006 nulos y los sacaremos al analizar CABA.\n",
    "# Podemos ver las principales variables.\n",
    "data.dist_subte.describe().round(5)"
   ]
  },
  {
   "cell_type": "markdown",
   "id": "mighty-sound",
   "metadata": {},
   "source": [
    "<a id=\"section_visual\"></a>\n",
    "\n",
    "### Visualizacion relaciones\n",
    "\n",
    "[volver a TOC](#section_toc)\n"
   ]
  },
  {
   "cell_type": "code",
   "execution_count": 30,
   "id": "handed-thing",
   "metadata": {},
   "outputs": [
    {
     "data": {
      "text/plain": [
       "<AxesSubplot:>"
      ]
     },
     "execution_count": 30,
     "metadata": {},
     "output_type": "execute_result"
    },
    {
     "data": {
      "image/png": "[encoded data removed]",
      "text/plain": [
       "<Figure size 1152x648 with 2 Axes>"
      ]
     },
     "metadata": {
      "needs_background": "light"
     },
     "output_type": "display_data"
    }
   ],
   "source": [
    "#Visualizamos la relación entre las variables tomando todo el país\n",
    "features_ls = ['Parrilla',\n",
    "    'Quincho',\n",
    "    'Balcon',\n",
    "    'Garage',\n",
    "    'Patio',\n",
    "    'Pileta',\n",
    "    'Gimnasio',\n",
    "    'Lavadero',\n",
    "    'Tipo_Propiedad',\n",
    "    'Ambientes']\n",
    "plt.figure(figsize=(16,9))\n",
    "sns.heatmap(data[['Precio_por_m2'] + features_ls].corr(), annot=True, vmin=-1, cmap='YlGnBu')"
   ]
  },
  {
   "cell_type": "code",
   "execution_count": 31,
   "id": "cubic-commodity",
   "metadata": {},
   "outputs": [
    {
     "data": {
      "text/plain": [
       "(53625, 58)"
      ]
     },
     "execution_count": 31,
     "metadata": {},
     "output_type": "execute_result"
    }
   ],
   "source": [
    "#Visualizamos la relación entre las variables tomando solamente AMBA\n",
    "values=['Capital Federal','Bs.As. G.B.A. Zona Norte','Bs.As. G.B.A. Zona Sur']\n",
    "data3 = data[data.Región.isin(values)]\n",
    "data3.shape"
   ]
  },
  {
   "cell_type": "code",
   "execution_count": 32,
   "id": "described-priority",
   "metadata": {},
   "outputs": [
    {
     "data": {
      "text/plain": [
       "<AxesSubplot:>"
      ]
     },
     "execution_count": 32,
     "metadata": {},
     "output_type": "execute_result"
    },
    {
     "data": {
      "image/png": "[encoded data removed]",
      "text/plain": [
       "<Figure size 1152x648 with 2 Axes>"
      ]
     },
     "metadata": {
      "needs_background": "light"
     },
     "output_type": "display_data"
    }
   ],
   "source": [
    "#Visualizamos la relación entre las variables tomando solamente AMBA\n",
    "features_lr = ['Parrilla',\n",
    "    'Quincho',\n",
    "    'Balcon',\n",
    "    'Garage',\n",
    "    'Patio',\n",
    "    'Pileta',\n",
    "    'Gimnasio',\n",
    "    'Lavadero',\n",
    "    'Tipo_Propiedad',\n",
    "    'Ambientes',\n",
    "]\n",
    "\n",
    "plt.figure(figsize=(16,9))\n",
    "sns.heatmap(data3[['Precio_por_m2'] + features_lr].corr(), annot=True, vmin=-1, cmap='YlGnBu')"
   ]
  },
  {
   "cell_type": "markdown",
   "id": "talented-minute",
   "metadata": {},
   "source": [
    "#### Conclusión: Podemos observar que las variables predictoras que pueden llegar a tener más peso en el modelo son:\n",
    "#### BALCON, PATIO, GIMNASIO, AMBIENTES"
   ]
  },
  {
   "cell_type": "markdown",
   "id": "electric-spelling",
   "metadata": {},
   "source": [
    "<a id=\"section_regarg\"></a>\n",
    "\n",
    "### Regresión lineal Argentina - SciKit Learn\n",
    "\n",
    "[volver a TOC](#section_toc)\n"
   ]
  },
  {
   "cell_type": "code",
   "execution_count": 33,
   "id": "global-subscriber",
   "metadata": {},
   "outputs": [],
   "source": [
    "from sklearn.linear_model import LinearRegression"
   ]
  },
  {
   "cell_type": "code",
   "execution_count": 34,
   "id": "chicken-validity",
   "metadata": {},
   "outputs": [],
   "source": [
    "# Creamos función para poder ir probando con distintos Features inicialmente\n",
    "\n",
    "#Los pasos incluidos en la función son:\n",
    "# 1. Seleccionar una clase de modelo\n",
    "# 2. Elegir los hiperparámetros del modelo\n",
    "# 3. Preparar los datos en una matriz de _features_ y un vector _target_\n",
    "# 4. Separar los sets de entrenamiento y de testeo\n",
    "# 5. Ajustar el modelo a los datos de entrenamiento¶\n",
    "# 6. Predecir etiquetas para datos desconocidos\n",
    "# 7. Evaluar la performance del modelo\n",
    "\n",
    "def train_test_error(feature_cols):\n",
    "    X = data[feature_cols]\n",
    "    y = data.Precio_por_m2\n",
    "    X_train, X_test, y_train, y_test = train_test_split(X, y, shuffle=False)\n",
    "    linreg = LinearRegression()\n",
    "    linreg.fit(X_train, y_train)\n",
    "    y_pred = linreg.predict(X_test)\n",
    "    \n",
    "        \n",
    "    print (feature_cols)\n",
    "    print (\"y_test sample: \",y_test.values[0:10])\n",
    "    print (\"y_pred sample: \",y_pred[0:10].astype(int))  \n",
    "    print ('MAE:', metrics.mean_absolute_error(y_test, y_pred))\n",
    "    print ('MSE:', metrics.mean_squared_error(y_test, y_pred))\n",
    "    print ('RMSE:', np.sqrt(metrics.mean_squared_error(y_test, y_pred)))\n",
    "    print ('R2:', metrics.r2_score(y_test, y_pred).round(2))\n",
    "    print ()\n",
    "    \n",
    "    return"
   ]
  },
  {
   "cell_type": "code",
   "execution_count": 35,
   "id": "exciting-senator",
   "metadata": {},
   "outputs": [],
   "source": [
    "# Probamos modelo para DataSet completo de Argentina"
   ]
  },
  {
   "cell_type": "code",
   "execution_count": 36,
   "id": "hybrid-greece",
   "metadata": {},
   "outputs": [
    {
     "name": "stdout",
     "output_type": "stream",
     "text": [
      "<class 'pandas.core.frame.DataFrame'>\n",
      "RangeIndex: 82112 entries, 0 to 82111\n",
      "Data columns (total 58 columns):\n",
      " #   Column                        Non-Null Count  Dtype  \n",
      "---  ------                        --------------  -----  \n",
      " 0   Tipo_Propiedad                82112 non-null  object \n",
      " 1   Región                        82112 non-null  object \n",
      " 2   Precio                        82112 non-null  float64\n",
      " 3   surface_total_in_m2           82112 non-null  float64\n",
      " 4   surface_covered_in_m2         82112 non-null  float64\n",
      " 5   Precio_por_m2                 82112 non-null  float64\n",
      " 6   Garage                        82112 non-null  int64  \n",
      " 7   Estado                        82112 non-null  int64  \n",
      " 8   Pileta                        82112 non-null  int64  \n",
      " 9   Balcon                        82112 non-null  int64  \n",
      " 10  Gimnasio                      82112 non-null  int64  \n",
      " 11  Quincho                       82112 non-null  int64  \n",
      " 12  Parrilla                      82112 non-null  int64  \n",
      " 13  Patio                         82112 non-null  int64  \n",
      " 14  Lavadero                      82112 non-null  int64  \n",
      " 15  Amenities                     82112 non-null  int64  \n",
      " 16  Ambientes                     27249 non-null  float64\n",
      " 17  Barrio                        82112 non-null  object \n",
      " 18  dist_subte                    77624 non-null  float64\n",
      " 19  Tipo_Propiedad_apartment      82112 non-null  uint8  \n",
      " 20  Tipo_Propiedad_house          82112 non-null  uint8  \n",
      " 21  Tipo_Propiedad_store          82112 non-null  uint8  \n",
      " 22  Bs.As. G.B.A. Zona Oeste      82112 non-null  uint8  \n",
      " 23  Bs.As. G.B.A. Zona Sur        82112 non-null  uint8  \n",
      " 24  Buenos Aires Costa Atlántica  82112 non-null  uint8  \n",
      " 25  Buenos Aires Interior         82112 non-null  uint8  \n",
      " 26  Capital Federal               82112 non-null  uint8  \n",
      " 27  Catamarca                     82112 non-null  uint8  \n",
      " 28  Chaco                         82112 non-null  uint8  \n",
      " 29  Chubut                        82112 non-null  uint8  \n",
      " 30  Corrientes                    82112 non-null  uint8  \n",
      " 31  Córdoba                       82112 non-null  uint8  \n",
      " 32  Entre Ríos                    82112 non-null  uint8  \n",
      " 33  Formosa                       82112 non-null  uint8  \n",
      " 34  Jujuy                         82112 non-null  uint8  \n",
      " 35  La Pampa                      82112 non-null  uint8  \n",
      " 36  La Rioja                      82112 non-null  uint8  \n",
      " 37  Mendoza                       82112 non-null  uint8  \n",
      " 38  Misiones                      82112 non-null  uint8  \n",
      " 39  Neuquén                       82112 non-null  uint8  \n",
      " 40  Río Negro                     82112 non-null  uint8  \n",
      " 41  Salta                         82112 non-null  uint8  \n",
      " 42  San Juan                      82112 non-null  uint8  \n",
      " 43  San Luis                      82112 non-null  uint8  \n",
      " 44  Santa Cruz                    82112 non-null  uint8  \n",
      " 45  Santa Fe                      82112 non-null  uint8  \n",
      " 46  Santiago Del Estero           82112 non-null  uint8  \n",
      " 47  Tierra Del Fuego              82112 non-null  uint8  \n",
      " 48  Tucumán                       82112 non-null  uint8  \n",
      " 49  2.0                           82112 non-null  uint8  \n",
      " 50  3.0                           82112 non-null  uint8  \n",
      " 51  4.0                           82112 non-null  uint8  \n",
      " 52  5.0                           82112 non-null  uint8  \n",
      " 53  6.0                           82112 non-null  uint8  \n",
      " 54  7.0                           82112 non-null  uint8  \n",
      " 55  8.0                           82112 non-null  uint8  \n",
      " 56  9.0                           82112 non-null  uint8  \n",
      " 57  10.0                          82112 non-null  uint8  \n",
      "dtypes: float64(6), int64(10), object(3), uint8(39)\n",
      "memory usage: 15.0+ MB\n"
     ]
    }
   ],
   "source": [
    "data.info()"
   ]
  },
  {
   "cell_type": "code",
   "execution_count": 38,
   "id": "aggressive-blank",
   "metadata": {},
   "outputs": [
    {
     "name": "stdout",
     "output_type": "stream",
     "text": [
      "['surface_total_in_m2', 'surface_covered_in_m2', 'Garage', 'Estado', 'Pileta', 'Balcon', 'Gimnasio', 'Quincho', 'Parrilla', 'Patio', 'Lavadero', 'Tipo_Propiedad_apartment', 'Tipo_Propiedad_house', 'Tipo_Propiedad_store', 'Bs.As. G.B.A. Zona Oeste', 'Bs.As. G.B.A. Zona Sur', 'Buenos Aires Costa Atlántica', 'Buenos Aires Interior', 'Capital Federal', 'Catamarca', 'Chaco', 'Chubut', 'Corrientes', 'Córdoba', 'Entre Ríos', 'Formosa', 'Jujuy', 'La Pampa', 'La Rioja', 'Mendoza', 'Misiones', 'Neuquén', 'Río Negro', 'Salta', 'San Juan', 'San Luis', 'Santa Cruz', 'Santa Fe', 'Santiago Del Estero', 'Tierra Del Fuego', 'Tucumán', 2.0, 3.0, 4.0, 5.0, 6.0, 7.0, 8.0, 9.0, 10.0]\n",
      "y_test sample:  [1033.33333333 3731.27083333 1137.93103448 2785.71428571 1479.28994083\n",
      " 1369.10694915 3000.         2156.8627451  2623.45679012 2471.83592593]\n",
      "y_pred sample:  [1181 2633  937 2612 2571 1651 2481 1883 2729 1991]\n",
      "MAE: 459.4532629616387\n",
      "MSE: 353934.68831403274\n",
      "RMSE: 594.9241029862824\n",
      "R2: 0.49\n",
      "\n"
     ]
    }
   ],
   "source": [
    "#Probamos una regresión múltiple en todo el país con todas las Features\n",
    "feature_cols = ['surface_total_in_m2', 'surface_covered_in_m2', 'Garage', 'Estado', 'Pileta', 'Balcon', 'Gimnasio', 'Quincho', 'Parrilla', 'Patio', \n",
    "                'Lavadero', 'Tipo_Propiedad_apartment', 'Tipo_Propiedad_house', 'Tipo_Propiedad_store', 'Bs.As. G.B.A. Zona Oeste', 'Bs.As. G.B.A. Zona Sur',\n",
    "                'Buenos Aires Costa Atlántica', 'Buenos Aires Interior', 'Capital Federal', 'Catamarca', 'Chaco', 'Chubut', 'Corrientes', 'Córdoba',\n",
    "                'Entre Ríos', 'Formosa', 'Jujuy', 'La Pampa', 'La Rioja', 'Mendoza', 'Misiones', 'Neuquén', 'Río Negro', 'Salta', 'San Juan', 'San Luis',\n",
    "                'Santa Cruz', 'Santa Fe', 'Santiago Del Estero', 'Tierra Del Fuego', 'Tucumán', 2.0, 3.0, 4.0, 5.0, 6.0, 7.0, 8.0, 9.0, 10.0]\n",
    "\n",
    "a = train_test_error(feature_cols)\n",
    "a"
   ]
  },
  {
   "cell_type": "code",
   "execution_count": 40,
   "id": "desperate-symbol",
   "metadata": {},
   "outputs": [
    {
     "data": {
      "image/png": "[encoded data removed]",
      "text/plain": [
       "<Figure size 432x288 with 1 Axes>"
      ]
     },
     "metadata": {
      "needs_background": "light"
     },
     "output_type": "display_data"
    },
    {
     "name": "stdout",
     "output_type": "stream",
     "text": [
      "                            OLS Regression Results                            \n",
      "==============================================================================\n",
      "Dep. Variable:          Precio_por_m2   R-squared:                       0.479\n",
      "Model:                            OLS   Adj. R-squared:                  0.479\n",
      "Method:                 Least Squares   F-statistic:                     1510.\n",
      "Date:                Tue, 04 May 2021   Prob (F-statistic):               0.00\n",
      "Time:                        19:04:35   Log-Likelihood:            -6.3999e+05\n",
      "No. Observations:               82112   AIC:                         1.280e+06\n",
      "Df Residuals:                   82061   BIC:                         1.281e+06\n",
      "Df Model:                          50                                         \n",
      "Covariance Type:            nonrobust                                         \n",
      "================================================================================================\n",
      "                                   coef    std err          t      P>|t|      [0.025      0.975]\n",
      "------------------------------------------------------------------------------------------------\n",
      "const                         1816.3505     10.798    168.219      0.000    1795.187    1837.514\n",
      "surface_total_in_m2              0.0347      0.008      4.214      0.000       0.019       0.051\n",
      "surface_covered_in_m2           -0.5588      0.025    -21.919      0.000      -0.609      -0.509\n",
      "Garage                          88.8642      5.151     17.251      0.000      78.768      98.961\n",
      "Estado                          51.0865      9.270      5.511      0.000      32.918      69.255\n",
      "Pileta                         150.8626      6.481     23.278      0.000     138.160     163.565\n",
      "Balcon                          59.8289      5.071     11.798      0.000      49.890      69.768\n",
      "Gimnasio                       276.7513     11.485     24.096      0.000     254.240     299.263\n",
      "Quincho                        -27.6704      8.854     -3.125      0.002     -45.025     -10.316\n",
      "Parrilla                        74.3789      5.523     13.468      0.000      63.555      85.203\n",
      "Patio                          -35.6756      5.576     -6.398      0.000     -46.605     -24.746\n",
      "Lavadero                       -32.0805      5.277     -6.079      0.000     -42.424     -21.737\n",
      "Tipo_Propiedad_apartment       598.0899      9.776     61.177      0.000     578.928     617.251\n",
      "Tipo_Propiedad_house          -113.0221     10.363    -10.907      0.000    -133.333     -92.711\n",
      "Tipo_Propiedad_store           244.4879     16.033     15.249      0.000     213.064     275.912\n",
      "Bs.As. G.B.A. Zona Oeste      -437.0835      8.402    -52.019      0.000    -453.552    -420.615\n",
      "Bs.As. G.B.A. Zona Sur        -367.0036      7.492    -48.984      0.000    -381.688    -352.319\n",
      "Buenos Aires Costa Atlántica  -406.8746      8.203    -49.603      0.000    -422.952    -390.797\n",
      "Buenos Aires Interior         -458.9103     16.701    -27.478      0.000    -491.644    -426.176\n",
      "Capital Federal                272.1324      6.249     43.546      0.000     259.884     284.381\n",
      "Catamarca                      621.9282    151.791      4.097      0.000     324.418     919.438\n",
      "Chaco                         -708.7450    115.268     -6.149      0.000    -934.669    -482.821\n",
      "Chubut                        -187.8204     53.008     -3.543      0.000    -291.716     -83.924\n",
      "Corrientes                    -361.0514     28.954    -12.470      0.000    -417.800    -304.303\n",
      "Córdoba                       -726.2957      8.929    -81.342      0.000    -743.796    -708.795\n",
      "Entre Ríos                    -541.3888     65.437     -8.273      0.000    -669.646    -413.132\n",
      "Formosa                      -1025.4962    293.745     -3.491      0.000   -1601.234    -449.758\n",
      "Jujuy                          118.3858    339.093      0.349      0.727    -546.235     783.006\n",
      "La Pampa                      -839.9171    146.907     -5.717      0.000   -1127.853    -551.981\n",
      "La Rioja                     -1111.7150    587.290     -1.893      0.058   -2262.799      39.369\n",
      "Mendoza                       -656.6628     31.144    -21.085      0.000    -717.705    -595.621\n",
      "Misiones                      -624.6561     44.530    -14.028      0.000    -711.935    -537.377\n",
      "Neuquén                       -127.0698     38.672     -3.286      0.001    -202.867     -51.272\n",
      "Río Negro                     -191.9179     36.217     -5.299      0.000    -262.903    -120.933\n",
      "Salta                         -711.3237     74.146     -9.594      0.000    -856.649    -565.998\n",
      "San Juan                      -652.0272    293.691     -2.220      0.026   -1227.659     -76.396\n",
      "San Luis                      -503.6280     49.572    -10.160      0.000    -600.788    -406.468\n",
      "Santa Cruz                    -378.0936    207.772     -1.820      0.069    -785.325      29.138\n",
      "Santa Fe                      -548.5962     10.341    -53.050      0.000    -568.865    -528.327\n",
      "Santiago Del Estero           -206.3949    587.358     -0.351      0.725   -1357.613     944.823\n",
      "Tierra Del Fuego              -293.8183    113.155     -2.597      0.009    -515.601     -72.036\n",
      "Tucumán                       -887.2984     52.134    -17.019      0.000    -989.481    -785.116\n",
      "2.0                            -12.6697      7.022     -1.804      0.071     -26.433       1.093\n",
      "3.0                            -38.8702      6.950     -5.593      0.000     -52.492     -25.249\n",
      "4.0                             17.3281      8.783      1.973      0.049       0.114      34.542\n",
      "5.0                            -79.1247     16.172     -4.893      0.000    -110.822     -47.427\n",
      "6.0                           -157.6579     29.316     -5.378      0.000    -215.117    -100.198\n",
      "7.0                           -237.5591     46.787     -5.077      0.000    -329.262    -145.856\n",
      "8.0                           -349.9485    113.210     -3.091      0.002    -571.839    -128.058\n",
      "9.0                           -538.8209    142.536     -3.780      0.000    -818.190    -259.452\n",
      "10.0                          -299.1660    207.723     -1.440      0.150    -706.302     107.970\n",
      "==============================================================================\n",
      "Omnibus:                     3345.462   Durbin-Watson:                   1.684\n",
      "Prob(Omnibus):                  0.000   Jarque-Bera (JB):             3975.154\n",
      "Skew:                           0.470   Prob(JB):                         0.00\n",
      "Kurtosis:                       3.527   Cond. No.                     1.04e+05\n",
      "==============================================================================\n",
      "\n",
      "Notes:\n",
      "[1] Standard Errors assume that the covariance matrix of the errors is correctly specified.\n",
      "[2] The condition number is large, 1.04e+05. This might indicate that there are\n",
      "strong multicollinearity or other numerical problems.\n"
     ]
    }
   ],
   "source": [
    "# Importamos la api.\n",
    "import statsmodels.api as sm\n",
    "\n",
    "# De manera análoga a la vista en el primer ejercicio, definimos el vector de variables con la primer variable RM.\n",
    "X = data[(feature_cols)]\n",
    "y = data.Precio_por_m2\n",
    "\n",
    "# Tenemos que agregar explícitamente a una constante:\n",
    "X = sm.add_constant(X)\n",
    "\n",
    "model = sm.OLS(y, X).fit()\n",
    "predictions = model.predict(X)\n",
    "\n",
    "# Graficamos los resultados\n",
    "plt.plot(y,y, '-.', c='grey')\n",
    "#plt.figure(figsize=(20,10))\n",
    "plt.scatter(predictions, y, s=1, c='r', marker='+', zorder=10)\n",
    "plt.xlabel(\"Predicciones usando Features\")\n",
    "plt.ylabel(\"Valores reales Precio_por_m2\")\n",
    "plt.show()\n",
    "print (model.summary())"
   ]
  },
  {
   "cell_type": "code",
   "execution_count": 38,
   "id": "patient-clause",
   "metadata": {},
   "outputs": [
    {
     "name": "stdout",
     "output_type": "stream",
     "text": [
      "['surface_total_in_m2', 'surface_covered_in_m2', 'Tipo_Propiedad_apartment', 'Tipo_Propiedad_house', 'Tipo_Propiedad_store', 'Bs.As. G.B.A. Zona Oeste', 'Bs.As. G.B.A. Zona Sur', 'Buenos Aires Costa Atlántica', 'Buenos Aires Interior', 'Capital Federal', 'Catamarca', 'Chaco', 'Chubut', 'Corrientes', 'Córdoba', 'Entre Ríos', 'Formosa', 'Jujuy', 'La Pampa', 'La Rioja', 'Mendoza', 'Misiones', 'Neuquén', 'Río Negro', 'Salta', 'San Juan', 'San Luis', 'Santa Cruz', 'Santa Fe', 'Santiago Del Estero', 'Tierra Del Fuego', 'Tucumán']\n",
      "y_test sample:  [1033.33333333 3731.27083333 1137.93103448 2785.71428571 1479.28994083\n",
      " 1369.10694915 3000.         2156.8627451  2623.45679012 2471.83592593]\n",
      "y_pred sample:  [1288 2694  960 2686 2645 1737 2475 1651 2457 1891]\n",
      "MAE: 463.36939097893213\n",
      "MSE: 361538.37157517846\n",
      "RMSE: 601.2806096783585\n",
      "R2: 0.48\n",
      "\n"
     ]
    }
   ],
   "source": [
    "#Probamos una regresión múltiple en todo el país sacando Features de amenities\n",
    "feature_cols = ['surface_total_in_m2', 'surface_covered_in_m2', 'Tipo_Propiedad_apartment', 'Tipo_Propiedad_house', 'Tipo_Propiedad_store', 'Bs.As. G.B.A. Zona Oeste', 'Bs.As. G.B.A. Zona Sur',\n",
    "                'Buenos Aires Costa Atlántica', 'Buenos Aires Interior', 'Capital Federal', 'Catamarca', 'Chaco', 'Chubut', 'Corrientes', 'Córdoba',\n",
    "                'Entre Ríos', 'Formosa', 'Jujuy', 'La Pampa', 'La Rioja', 'Mendoza', 'Misiones', 'Neuquén', 'Río Negro', 'Salta', 'San Juan', 'San Luis',\n",
    "                'Santa Cruz', 'Santa Fe', 'Santiago Del Estero', 'Tierra Del Fuego', 'Tucumán']\n",
    "\n",
    "a = train_test_error(feature_cols)\n",
    "a"
   ]
  },
  {
   "cell_type": "code",
   "execution_count": 39,
   "id": "charming-truth",
   "metadata": {},
   "outputs": [
    {
     "name": "stdout",
     "output_type": "stream",
     "text": [
      "['surface_total_in_m2', 'surface_covered_in_m2', 'Garage', 'Estado', 'Pileta', 'Balcon', 'Gimnasio', 'Quincho', 'Parrilla', 'Patio', 'Lavadero', 'Bs.As. G.B.A. Zona Oeste', 'Bs.As. G.B.A. Zona Sur', 'Buenos Aires Costa Atlántica', 'Buenos Aires Interior', 'Capital Federal', 'Catamarca', 'Chaco', 'Chubut', 'Corrientes', 'Córdoba', 'Entre Ríos', 'Formosa', 'Jujuy', 'La Pampa', 'La Rioja', 'Mendoza', 'Misiones', 'Neuquén', 'Río Negro', 'Salta', 'San Juan', 'San Luis', 'Santa Cruz', 'Santa Fe', 'Santiago Del Estero', 'Tierra Del Fuego', 'Tucumán', 2.0, 3.0, 4.0, 5.0, 6.0, 7.0, 8.0, 9.0, 10.0]\n",
      "y_test sample:  [1033.33333333 3731.27083333 1137.93103448 2785.71428571 1479.28994083\n",
      " 1369.10694915 3000.         2156.8627451  2623.45679012 2471.83592593]\n",
      "y_pred sample:  [1290 2535 1209 2643 2338 2066 2268 2059 2660 2021]\n",
      "MAE: 497.9249529467088\n",
      "MSE: 419857.0622116514\n",
      "RMSE: 647.9637815585462\n",
      "R2: 0.4\n",
      "\n"
     ]
    }
   ],
   "source": [
    "#Probamos una regresión múltiple en todo el país sacando las Features de Tipo de Propiedad\n",
    "feature_cols = ['surface_total_in_m2', 'surface_covered_in_m2', 'Garage', 'Estado', 'Pileta', 'Balcon', 'Gimnasio', 'Quincho', 'Parrilla', 'Patio', \n",
    "                'Lavadero', 'Bs.As. G.B.A. Zona Oeste', 'Bs.As. G.B.A. Zona Sur',\n",
    "                'Buenos Aires Costa Atlántica', 'Buenos Aires Interior', 'Capital Federal', 'Catamarca', 'Chaco', 'Chubut', 'Corrientes', 'Córdoba',\n",
    "                'Entre Ríos', 'Formosa', 'Jujuy', 'La Pampa', 'La Rioja', 'Mendoza', 'Misiones', 'Neuquén', 'Río Negro', 'Salta', 'San Juan', 'San Luis',\n",
    "                'Santa Cruz', 'Santa Fe', 'Santiago Del Estero', 'Tierra Del Fuego', 'Tucumán', 2.0, 3.0, 4.0, 5.0, 6.0, 7.0, 8.0, 9.0, 10.0]\n",
    "\n",
    "a = train_test_error(feature_cols)\n",
    "a"
   ]
  },
  {
   "cell_type": "code",
   "execution_count": 40,
   "id": "suitable-success",
   "metadata": {},
   "outputs": [
    {
     "name": "stdout",
     "output_type": "stream",
     "text": [
      "['surface_total_in_m2', 'surface_covered_in_m2', 'Garage', 'Estado', 'Pileta', 'Balcon', 'Gimnasio', 'Quincho', 'Parrilla', 'Patio', 'Lavadero', 'Tipo_Propiedad_apartment', 'Tipo_Propiedad_house', 'Tipo_Propiedad_store', 2.0, 3.0, 4.0, 5.0, 6.0, 7.0, 8.0, 9.0, 10.0]\n",
      "y_test sample:  [1033.33333333 3731.27083333 1137.93103448 2785.71428571 1479.28994083\n",
      " 1369.10694915 3000.         2156.8627451  2623.45679012 2471.83592593]\n",
      "y_pred sample:  [1256 2227 1334 2371 2205 1339 2299 1724 2582 2355]\n",
      "MAE: 547.2658171264336\n",
      "MSE: 470678.28428412275\n",
      "RMSE: 686.0599713466183\n",
      "R2: 0.33\n",
      "\n"
     ]
    }
   ],
   "source": [
    "#Probamos una regresión múltiple en todo el país sacando las Features de Ubicación\n",
    "feature_cols = ['surface_total_in_m2', 'surface_covered_in_m2', 'Garage', 'Estado', 'Pileta', 'Balcon', 'Gimnasio', 'Quincho', 'Parrilla', 'Patio', \n",
    "                'Lavadero', 'Tipo_Propiedad_apartment', 'Tipo_Propiedad_house', 'Tipo_Propiedad_store', 2.0, 3.0, 4.0, 5.0, 6.0, 7.0, 8.0, 9.0, 10.0]\n",
    "\n",
    "a = train_test_error(feature_cols)\n",
    "a"
   ]
  },
  {
   "cell_type": "markdown",
   "id": "demanding-glance",
   "metadata": {},
   "source": [
    "<a id=\"section_regcaba\"></a>\n",
    "\n",
    "### Regresión lineal CABA - SciKit Learn\n",
    "\n",
    "[volver a TOC](#section_toc)\n"
   ]
  },
  {
   "cell_type": "code",
   "execution_count": 41,
   "id": "amended-spell",
   "metadata": {},
   "outputs": [
    {
     "name": "stdout",
     "output_type": "stream",
     "text": [
      "<class 'pandas.core.frame.DataFrame'>\n",
      "RangeIndex: 82112 entries, 0 to 82111\n",
      "Data columns (total 19 columns):\n",
      " #   Column                 Non-Null Count  Dtype  \n",
      "---  ------                 --------------  -----  \n",
      " 0   Tipo_Propiedad         82112 non-null  object \n",
      " 1   Región                 82112 non-null  object \n",
      " 2   Precio                 82112 non-null  float64\n",
      " 3   surface_total_in_m2    82112 non-null  float64\n",
      " 4   surface_covered_in_m2  82112 non-null  float64\n",
      " 5   Precio_por_m2          82112 non-null  float64\n",
      " 6   Garage                 82112 non-null  int64  \n",
      " 7   Estado                 82112 non-null  int64  \n",
      " 8   Pileta                 82112 non-null  int64  \n",
      " 9   Balcon                 82112 non-null  int64  \n",
      " 10  Gimnasio               82112 non-null  int64  \n",
      " 11  Quincho                82112 non-null  int64  \n",
      " 12  Parrilla               82112 non-null  int64  \n",
      " 13  Patio                  82112 non-null  int64  \n",
      " 14  Lavadero               82112 non-null  int64  \n",
      " 15  Amenities              82112 non-null  int64  \n",
      " 16  Ambientes              27249 non-null  float64\n",
      " 17  Barrio                 82112 non-null  object \n",
      " 18  dist_subte             77624 non-null  float64\n",
      "dtypes: float64(6), int64(10), object(3)\n",
      "memory usage: 11.9+ MB\n"
     ]
    },
    {
     "data": {
      "text/plain": [
       "(82112, 19)"
      ]
     },
     "execution_count": 41,
     "metadata": {},
     "output_type": "execute_result"
    }
   ],
   "source": [
    "data2.info()\n",
    "data2.shape"
   ]
  },
  {
   "cell_type": "code",
   "execution_count": 42,
   "id": "stopped-chambers",
   "metadata": {},
   "outputs": [
    {
     "name": "stdout",
     "output_type": "stream",
     "text": [
      "<class 'pandas.core.frame.DataFrame'>\n",
      "Int64Index: 23422 entries, 0 to 82111\n",
      "Data columns (total 19 columns):\n",
      " #   Column                 Non-Null Count  Dtype  \n",
      "---  ------                 --------------  -----  \n",
      " 0   Tipo_Propiedad         23422 non-null  object \n",
      " 1   Región                 23422 non-null  object \n",
      " 2   Precio                 23422 non-null  float64\n",
      " 3   surface_total_in_m2    23422 non-null  float64\n",
      " 4   surface_covered_in_m2  23422 non-null  float64\n",
      " 5   Precio_por_m2          23422 non-null  float64\n",
      " 6   Garage                 23422 non-null  int64  \n",
      " 7   Estado                 23422 non-null  int64  \n",
      " 8   Pileta                 23422 non-null  int64  \n",
      " 9   Balcon                 23422 non-null  int64  \n",
      " 10  Gimnasio               23422 non-null  int64  \n",
      " 11  Quincho                23422 non-null  int64  \n",
      " 12  Parrilla               23422 non-null  int64  \n",
      " 13  Patio                  23422 non-null  int64  \n",
      " 14  Lavadero               23422 non-null  int64  \n",
      " 15  Amenities              23422 non-null  int64  \n",
      " 16  Ambientes              11185 non-null  float64\n",
      " 17  Barrio                 23422 non-null  object \n",
      " 18  dist_subte             18934 non-null  float64\n",
      "dtypes: float64(6), int64(10), object(3)\n",
      "memory usage: 3.6+ MB\n"
     ]
    },
    {
     "data": {
      "text/plain": [
       "(23422, 19)"
      ]
     },
     "execution_count": 42,
     "metadata": {},
     "output_type": "execute_result"
    }
   ],
   "source": [
    "data2 = data2[data2['Región'] == 'Capital Federal']\n",
    "data2.info()\n",
    "data2.shape"
   ]
  },
  {
   "cell_type": "code",
   "execution_count": 43,
   "id": "mature-kentucky",
   "metadata": {},
   "outputs": [
    {
     "name": "stdout",
     "output_type": "stream",
     "text": [
      "<class 'pandas.core.frame.DataFrame'>\n",
      "Int64Index: 18934 entries, 0 to 82111\n",
      "Data columns (total 19 columns):\n",
      " #   Column                 Non-Null Count  Dtype  \n",
      "---  ------                 --------------  -----  \n",
      " 0   Tipo_Propiedad         18934 non-null  object \n",
      " 1   Región                 18934 non-null  object \n",
      " 2   Precio                 18934 non-null  float64\n",
      " 3   surface_total_in_m2    18934 non-null  float64\n",
      " 4   surface_covered_in_m2  18934 non-null  float64\n",
      " 5   Precio_por_m2          18934 non-null  float64\n",
      " 6   Garage                 18934 non-null  int64  \n",
      " 7   Estado                 18934 non-null  int64  \n",
      " 8   Pileta                 18934 non-null  int64  \n",
      " 9   Balcon                 18934 non-null  int64  \n",
      " 10  Gimnasio               18934 non-null  int64  \n",
      " 11  Quincho                18934 non-null  int64  \n",
      " 12  Parrilla               18934 non-null  int64  \n",
      " 13  Patio                  18934 non-null  int64  \n",
      " 14  Lavadero               18934 non-null  int64  \n",
      " 15  Amenities              18934 non-null  int64  \n",
      " 16  Ambientes              9111 non-null   float64\n",
      " 17  Barrio                 18934 non-null  object \n",
      " 18  dist_subte             18934 non-null  float64\n",
      "dtypes: float64(6), int64(10), object(3)\n",
      "memory usage: 2.9+ MB\n"
     ]
    },
    {
     "data": {
      "text/plain": [
       "(18934, 19)"
      ]
     },
     "execution_count": 43,
     "metadata": {},
     "output_type": "execute_result"
    }
   ],
   "source": [
    "#Limpiamos totalmente\n",
    "data2 = data2.dropna(subset=['dist_subte'], axis = 0) \n",
    "data2.info()\n",
    "data2.shape"
   ]
  },
  {
   "cell_type": "code",
   "execution_count": 44,
   "id": "anticipated-jackson",
   "metadata": {},
   "outputs": [
    {
     "name": "stdout",
     "output_type": "stream",
     "text": [
      "<class 'pandas.core.frame.DataFrame'>\n",
      "Int64Index: 9111 entries, 9 to 82110\n",
      "Data columns (total 19 columns):\n",
      " #   Column                 Non-Null Count  Dtype  \n",
      "---  ------                 --------------  -----  \n",
      " 0   Tipo_Propiedad         9111 non-null   object \n",
      " 1   Región                 9111 non-null   object \n",
      " 2   Precio                 9111 non-null   float64\n",
      " 3   surface_total_in_m2    9111 non-null   float64\n",
      " 4   surface_covered_in_m2  9111 non-null   float64\n",
      " 5   Precio_por_m2          9111 non-null   float64\n",
      " 6   Garage                 9111 non-null   int64  \n",
      " 7   Estado                 9111 non-null   int64  \n",
      " 8   Pileta                 9111 non-null   int64  \n",
      " 9   Balcon                 9111 non-null   int64  \n",
      " 10  Gimnasio               9111 non-null   int64  \n",
      " 11  Quincho                9111 non-null   int64  \n",
      " 12  Parrilla               9111 non-null   int64  \n",
      " 13  Patio                  9111 non-null   int64  \n",
      " 14  Lavadero               9111 non-null   int64  \n",
      " 15  Amenities              9111 non-null   int64  \n",
      " 16  Ambientes              9111 non-null   float64\n",
      " 17  Barrio                 9111 non-null   object \n",
      " 18  dist_subte             9111 non-null   float64\n",
      "dtypes: float64(6), int64(10), object(3)\n",
      "memory usage: 1.4+ MB\n"
     ]
    },
    {
     "data": {
      "text/plain": [
       "(9111, 19)"
      ]
     },
     "execution_count": 44,
     "metadata": {},
     "output_type": "execute_result"
    }
   ],
   "source": [
    "data2 = data2.dropna(subset=['Ambientes'], axis = 0) \n",
    "data2.info()\n",
    "data2.shape"
   ]
  },
  {
   "cell_type": "code",
   "execution_count": 45,
   "id": "analyzed-moderator",
   "metadata": {},
   "outputs": [
    {
     "name": "stdout",
     "output_type": "stream",
     "text": [
      "<class 'pandas.core.frame.DataFrame'>\n",
      "Int64Index: 9111 entries, 9 to 82110\n",
      "Data columns (total 78 columns):\n",
      " #   Column                    Non-Null Count  Dtype  \n",
      "---  ------                    --------------  -----  \n",
      " 0   Tipo_Propiedad            9111 non-null   object \n",
      " 1   Región                    9111 non-null   object \n",
      " 2   Precio                    9111 non-null   float64\n",
      " 3   surface_total_in_m2       9111 non-null   float64\n",
      " 4   surface_covered_in_m2     9111 non-null   float64\n",
      " 5   Precio_por_m2             9111 non-null   float64\n",
      " 6   Garage                    9111 non-null   int64  \n",
      " 7   Estado                    9111 non-null   int64  \n",
      " 8   Pileta                    9111 non-null   int64  \n",
      " 9   Balcon                    9111 non-null   int64  \n",
      " 10  Gimnasio                  9111 non-null   int64  \n",
      " 11  Quincho                   9111 non-null   int64  \n",
      " 12  Parrilla                  9111 non-null   int64  \n",
      " 13  Patio                     9111 non-null   int64  \n",
      " 14  Lavadero                  9111 non-null   int64  \n",
      " 15  Amenities                 9111 non-null   int64  \n",
      " 16  Ambientes                 9111 non-null   float64\n",
      " 17  Barrio                    9111 non-null   object \n",
      " 18  dist_subte                9111 non-null   float64\n",
      " 19  Tipo_Propiedad_apartment  9111 non-null   uint8  \n",
      " 20  Tipo_Propiedad_house      9111 non-null   uint8  \n",
      " 21  Tipo_Propiedad_store      9111 non-null   uint8  \n",
      " 22  Almagro                   9111 non-null   uint8  \n",
      " 23  Balvanera                 9111 non-null   uint8  \n",
      " 24  Barracas                  9111 non-null   uint8  \n",
      " 25  Belgrano                  9111 non-null   uint8  \n",
      " 26  Boca                      9111 non-null   uint8  \n",
      " 27  Boedo                     9111 non-null   uint8  \n",
      " 28  Caballito                 9111 non-null   uint8  \n",
      " 29  Chacarita                 9111 non-null   uint8  \n",
      " 30  Coghlan                   9111 non-null   uint8  \n",
      " 31  Colegiales                9111 non-null   uint8  \n",
      " 32  Constitución              9111 non-null   uint8  \n",
      " 33  Flores                    9111 non-null   uint8  \n",
      " 34  Floresta                  9111 non-null   uint8  \n",
      " 35  Liniers                   9111 non-null   uint8  \n",
      " 36  Mataderos                 9111 non-null   uint8  \n",
      " 37  Monserrat                 9111 non-null   uint8  \n",
      " 38  Monte Castro              9111 non-null   uint8  \n",
      " 39  Nueva Pompeya             9111 non-null   uint8  \n",
      " 40  Nuñez                     9111 non-null   uint8  \n",
      " 41  Palermo                   9111 non-null   uint8  \n",
      " 42  Parque Avellaneda         9111 non-null   uint8  \n",
      " 43  Parque Chacabuco          9111 non-null   uint8  \n",
      " 44  Parque Chas               9111 non-null   uint8  \n",
      " 45  Parque Patricios          9111 non-null   uint8  \n",
      " 46  Paternal                  9111 non-null   uint8  \n",
      " 47  Puerto Madero             9111 non-null   uint8  \n",
      " 48  Recoleta                  9111 non-null   uint8  \n",
      " 49  Retiro                    9111 non-null   uint8  \n",
      " 50  Saavedra                  9111 non-null   uint8  \n",
      " 51  San Cristóbal             9111 non-null   uint8  \n",
      " 52  San Nicolás               9111 non-null   uint8  \n",
      " 53  San Telmo                 9111 non-null   uint8  \n",
      " 54  Versalles                 9111 non-null   uint8  \n",
      " 55  Villa Crespo              9111 non-null   uint8  \n",
      " 56  Villa Devoto              9111 non-null   uint8  \n",
      " 57  Villa Gral. Mitre         9111 non-null   uint8  \n",
      " 58  Villa Lugano              9111 non-null   uint8  \n",
      " 59  Villa Luro                9111 non-null   uint8  \n",
      " 60  Villa Ortuzar             9111 non-null   uint8  \n",
      " 61  Villa Pueyrredón          9111 non-null   uint8  \n",
      " 62  Villa Real                9111 non-null   uint8  \n",
      " 63  Villa Riachuelo           9111 non-null   uint8  \n",
      " 64  Villa Santa Rita          9111 non-null   uint8  \n",
      " 65  Villa Soldati             9111 non-null   uint8  \n",
      " 66  Villa Urquiza             9111 non-null   uint8  \n",
      " 67  Villa del Parque          9111 non-null   uint8  \n",
      " 68  Vélez Sársfield           9111 non-null   uint8  \n",
      " 69  2.0                       9111 non-null   uint8  \n",
      " 70  3.0                       9111 non-null   uint8  \n",
      " 71  4.0                       9111 non-null   uint8  \n",
      " 72  5.0                       9111 non-null   uint8  \n",
      " 73  6.0                       9111 non-null   uint8  \n",
      " 74  7.0                       9111 non-null   uint8  \n",
      " 75  8.0                       9111 non-null   uint8  \n",
      " 76  9.0                       9111 non-null   uint8  \n",
      " 77  10.0                      9111 non-null   uint8  \n",
      "dtypes: float64(6), int64(10), object(3), uint8(59)\n",
      "memory usage: 1.9+ MB\n"
     ]
    },
    {
     "data": {
      "text/plain": [
       "(9111, 78)"
      ]
     },
     "execution_count": 45,
     "metadata": {},
     "output_type": "execute_result"
    }
   ],
   "source": [
    "Tipo_Propiedad_dummy = pd.get_dummies(data2['Tipo_Propiedad'], prefix= 'Tipo_Propiedad', drop_first=True)\n",
    "data2 = pd.concat([data2, Tipo_Propiedad_dummy], axis=1)\n",
    "Region_dummy = pd.get_dummies(data2['Barrio'], drop_first=True)\n",
    "data2 = pd.concat([data2, Region_dummy], axis=1)\n",
    "Ambientes_dummy = pd.get_dummies(data2['Ambientes'], drop_first=True)\n",
    "data2 = pd.concat([data2, Ambientes_dummy], axis=1)\n",
    "#data2.info()\n",
    "\n",
    "data2.info()\n",
    "data2.shape"
   ]
  },
  {
   "cell_type": "code",
   "execution_count": 46,
   "id": "crucial-semester",
   "metadata": {},
   "outputs": [],
   "source": [
    "#numericals = ['surface_total_in_m2', 'surface_covered_in_m2', 'dist_subte']\n",
    "\n",
    "#X = data2[numericals]\n",
    "\n",
    "#scaler = MinMaxScaler()\n",
    "#scaler.fit(X)\n",
    "\n",
    "#std_numerical_data = scaler.transform(X)\n",
    "#std_df = pd.DataFrame(std_numerical_data)\n",
    "#std_df = pd.DataFrame(std_numerical_data)\n",
    "#std_df.columns = [i + '_std' for i in numericals]\n",
    "#std_df"
   ]
  },
  {
   "cell_type": "code",
   "execution_count": 47,
   "id": "given-tuner",
   "metadata": {},
   "outputs": [],
   "source": [
    "#dataCABA = pd.concat([data2.reset_index(), std_df], axis = 1)\n",
    "#dataCABA.info()\n",
    "#dataCABA.shape\n",
    "dataCABA = data2"
   ]
  },
  {
   "cell_type": "code",
   "execution_count": 48,
   "id": "dried-check",
   "metadata": {},
   "outputs": [
    {
     "name": "stdout",
     "output_type": "stream",
     "text": [
      "<class 'pandas.core.frame.DataFrame'>\n",
      "Int64Index: 9111 entries, 9 to 82110\n",
      "Data columns (total 78 columns):\n",
      " #   Column                    Non-Null Count  Dtype  \n",
      "---  ------                    --------------  -----  \n",
      " 0   Tipo_Propiedad            9111 non-null   object \n",
      " 1   Región                    9111 non-null   object \n",
      " 2   Precio                    9111 non-null   float64\n",
      " 3   surface_total_in_m2       9111 non-null   float64\n",
      " 4   surface_covered_in_m2     9111 non-null   float64\n",
      " 5   Precio_por_m2             9111 non-null   float64\n",
      " 6   Garage                    9111 non-null   int64  \n",
      " 7   Estado                    9111 non-null   int64  \n",
      " 8   Pileta                    9111 non-null   int64  \n",
      " 9   Balcon                    9111 non-null   int64  \n",
      " 10  Gimnasio                  9111 non-null   int64  \n",
      " 11  Quincho                   9111 non-null   int64  \n",
      " 12  Parrilla                  9111 non-null   int64  \n",
      " 13  Patio                     9111 non-null   int64  \n",
      " 14  Lavadero                  9111 non-null   int64  \n",
      " 15  Amenities                 9111 non-null   int64  \n",
      " 16  Ambientes                 9111 non-null   float64\n",
      " 17  Barrio                    9111 non-null   object \n",
      " 18  dist_subte                9111 non-null   float64\n",
      " 19  Tipo_Propiedad_apartment  9111 non-null   uint8  \n",
      " 20  Tipo_Propiedad_house      9111 non-null   uint8  \n",
      " 21  Tipo_Propiedad_store      9111 non-null   uint8  \n",
      " 22  Almagro                   9111 non-null   uint8  \n",
      " 23  Balvanera                 9111 non-null   uint8  \n",
      " 24  Barracas                  9111 non-null   uint8  \n",
      " 25  Belgrano                  9111 non-null   uint8  \n",
      " 26  Boca                      9111 non-null   uint8  \n",
      " 27  Boedo                     9111 non-null   uint8  \n",
      " 28  Caballito                 9111 non-null   uint8  \n",
      " 29  Chacarita                 9111 non-null   uint8  \n",
      " 30  Coghlan                   9111 non-null   uint8  \n",
      " 31  Colegiales                9111 non-null   uint8  \n",
      " 32  Constitución              9111 non-null   uint8  \n",
      " 33  Flores                    9111 non-null   uint8  \n",
      " 34  Floresta                  9111 non-null   uint8  \n",
      " 35  Liniers                   9111 non-null   uint8  \n",
      " 36  Mataderos                 9111 non-null   uint8  \n",
      " 37  Monserrat                 9111 non-null   uint8  \n",
      " 38  Monte Castro              9111 non-null   uint8  \n",
      " 39  Nueva Pompeya             9111 non-null   uint8  \n",
      " 40  Nuñez                     9111 non-null   uint8  \n",
      " 41  Palermo                   9111 non-null   uint8  \n",
      " 42  Parque Avellaneda         9111 non-null   uint8  \n",
      " 43  Parque Chacabuco          9111 non-null   uint8  \n",
      " 44  Parque Chas               9111 non-null   uint8  \n",
      " 45  Parque Patricios          9111 non-null   uint8  \n",
      " 46  Paternal                  9111 non-null   uint8  \n",
      " 47  Puerto Madero             9111 non-null   uint8  \n",
      " 48  Recoleta                  9111 non-null   uint8  \n",
      " 49  Retiro                    9111 non-null   uint8  \n",
      " 50  Saavedra                  9111 non-null   uint8  \n",
      " 51  San Cristóbal             9111 non-null   uint8  \n",
      " 52  San Nicolás               9111 non-null   uint8  \n",
      " 53  San Telmo                 9111 non-null   uint8  \n",
      " 54  Versalles                 9111 non-null   uint8  \n",
      " 55  Villa Crespo              9111 non-null   uint8  \n",
      " 56  Villa Devoto              9111 non-null   uint8  \n",
      " 57  Villa Gral. Mitre         9111 non-null   uint8  \n",
      " 58  Villa Lugano              9111 non-null   uint8  \n",
      " 59  Villa Luro                9111 non-null   uint8  \n",
      " 60  Villa Ortuzar             9111 non-null   uint8  \n",
      " 61  Villa Pueyrredón          9111 non-null   uint8  \n",
      " 62  Villa Real                9111 non-null   uint8  \n",
      " 63  Villa Riachuelo           9111 non-null   uint8  \n",
      " 64  Villa Santa Rita          9111 non-null   uint8  \n",
      " 65  Villa Soldati             9111 non-null   uint8  \n",
      " 66  Villa Urquiza             9111 non-null   uint8  \n",
      " 67  Villa del Parque          9111 non-null   uint8  \n",
      " 68  Vélez Sársfield           9111 non-null   uint8  \n",
      " 69  2.0                       9111 non-null   uint8  \n",
      " 70  3.0                       9111 non-null   uint8  \n",
      " 71  4.0                       9111 non-null   uint8  \n",
      " 72  5.0                       9111 non-null   uint8  \n",
      " 73  6.0                       9111 non-null   uint8  \n",
      " 74  7.0                       9111 non-null   uint8  \n",
      " 75  8.0                       9111 non-null   uint8  \n",
      " 76  9.0                       9111 non-null   uint8  \n",
      " 77  10.0                      9111 non-null   uint8  \n",
      "dtypes: float64(6), int64(10), object(3), uint8(59)\n",
      "memory usage: 1.9+ MB\n"
     ]
    }
   ],
   "source": [
    "dataCABA.info()\n",
    "\n",
    "#'surface_total_in_m2', 'surface_covered_in_m2' y 'dist_subte' deberian ser eliminadas ya que contamos con columnas de estas mismas pero estandarizadas\n"
   ]
  },
  {
   "cell_type": "code",
   "execution_count": 49,
   "id": "physical-journalism",
   "metadata": {},
   "outputs": [
    {
     "data": {
      "text/plain": [
       "<AxesSubplot:>"
      ]
     },
     "execution_count": 49,
     "metadata": {},
     "output_type": "execute_result"
    },
    {
     "data": {
      "image/png": "[encoded data removed]",
      "text/plain": [
       "<Figure size 1152x648 with 2 Axes>"
      ]
     },
     "metadata": {
      "needs_background": "light"
     },
     "output_type": "display_data"
    }
   ],
   "source": [
    "features_lr = ['Parrilla',\n",
    "    'Quincho',\n",
    "    'Balcon',\n",
    "    'Garage',\n",
    "    'Patio',\n",
    "    'Pileta',\n",
    "    'Gimnasio',\n",
    "    'Lavadero',\n",
    "    'Tipo_Propiedad',\n",
    "    'dist_subte',\n",
    "    'Ambientes',\n",
    "]\n",
    "\n",
    "plt.figure(figsize=(16,9))\n",
    "sns.heatmap(data2[['Precio_por_m2'] + features_lr].corr(), annot=True, vmin=-1, cmap='YlGnBu')"
   ]
  },
  {
   "cell_type": "code",
   "execution_count": 50,
   "id": "honey-patent",
   "metadata": {},
   "outputs": [
    {
     "data": {
      "text/plain": [
       "(9111, 78)"
      ]
     },
     "execution_count": 50,
     "metadata": {},
     "output_type": "execute_result"
    }
   ],
   "source": [
    "data2.shape"
   ]
  },
  {
   "cell_type": "code",
   "execution_count": 51,
   "id": "boxed-treaty",
   "metadata": {},
   "outputs": [
    {
     "data": {
      "text/plain": [
       "Caballito            946\n",
       "Palermo              903\n",
       "Belgrano             666\n",
       "Recoleta             546\n",
       "Flores               538\n",
       "Balvanera            512\n",
       "Almagro              452\n",
       "Villa Crespo         439\n",
       "Villa Urquiza        435\n",
       "San Telmo            379\n",
       "Nuñez                210\n",
       "Floresta             210\n",
       "Villa Luro           180\n",
       "San Cristóbal        177\n",
       "Saavedra             176\n",
       "Barracas             166\n",
       "San Nicolás          165\n",
       "Villa Devoto         165\n",
       "Monserrat            150\n",
       "Villa del Parque     147\n",
       "Liniers              138\n",
       "Mataderos            131\n",
       "Colegiales           117\n",
       "Boedo                115\n",
       "Parque Patricios      99\n",
       "Parque Chacabuco      94\n",
       "Coghlan               83\n",
       "Chacarita             74\n",
       "Paternal              72\n",
       "Villa Lugano          68\n",
       "Constitución          63\n",
       "Villa Pueyrredón      63\n",
       "Boca                  60\n",
       "Retiro                50\n",
       "Parque Avellaneda     46\n",
       "Monte Castro          38\n",
       "Villa Ortuzar         35\n",
       "Villa Gral. Mitre     28\n",
       "Agronomía             28\n",
       "Versalles             26\n",
       "Villa Santa Rita      25\n",
       "Villa Real            24\n",
       "Vélez Sársfield       20\n",
       "Nueva Pompeya         19\n",
       "Parque Chas           17\n",
       "Puerto Madero         11\n",
       "Villa Riachuelo        3\n",
       "Villa Soldati          2\n",
       "Name: Barrio, dtype: int64"
      ]
     },
     "execution_count": 51,
     "metadata": {},
     "output_type": "execute_result"
    }
   ],
   "source": [
    "#Agrego 48 barrios, OK\n",
    "data2.Barrio.value_counts()"
   ]
  },
  {
   "cell_type": "code",
   "execution_count": 52,
   "id": "settled-property",
   "metadata": {},
   "outputs": [],
   "source": [
    "#Probamos la regresión múltiple con CABA solamente y agregando la distancia al subte\n",
    "\n",
    "def train_test_error_CABA(feature_cols_CABA):\n",
    "    X = data2[feature_cols_CABA]\n",
    "    y = data2.Precio_por_m2\n",
    "    X_train, X_test, y_train, y_test = train_test_split(X, y, shuffle=False)\n",
    "    linreg = LinearRegression()\n",
    "    linreg.fit(X_train, y_train)\n",
    "    y_pred = linreg.predict(X_test)\n",
    "    \n",
    "        \n",
    "    print (feature_cols)\n",
    "    print (\"y_test sample: \",y_test.values[0:10])\n",
    "    print (\"y_pred sample: \",y_pred[0:10].astype(int))  \n",
    "    print ('MAE:', metrics.mean_absolute_error(y_test, y_pred))\n",
    "    print ('MSE:', metrics.mean_squared_error(y_test, y_pred))\n",
    "    print ('RMSE:', np.sqrt(metrics.mean_squared_error(y_test, y_pred)))\n",
    "    print ('R2:', metrics.r2_score(y_test, y_pred).round(2))\n",
    "    print ()\n",
    "    \n",
    "    return"
   ]
  },
  {
   "cell_type": "code",
   "execution_count": 53,
   "id": "every-contrary",
   "metadata": {},
   "outputs": [
    {
     "name": "stdout",
     "output_type": "stream",
     "text": [
      "['surface_total_in_m2', 'surface_covered_in_m2', 'Garage', 'Estado', 'Pileta', 'Balcon', 'Gimnasio', 'Quincho', 'Parrilla', 'Patio', 'Lavadero', 'Tipo_Propiedad_apartment', 'Tipo_Propiedad_house', 'Tipo_Propiedad_store', 2.0, 3.0, 4.0, 5.0, 6.0, 7.0, 8.0, 9.0, 10.0]\n",
      "y_test sample:  [4334.90566038 3870.73170732 2024.19354839 2826.08695652 1370.\n",
      " 2050.         4065.57377049 2266.66666667 2075.         2112.5       ]\n",
      "y_pred sample:  [2518 2862 2086 2917  572 2148 2655 2911 2169 2169]\n",
      "MAE: 432.7860112678905\n",
      "MSE: 305185.0371754211\n",
      "RMSE: 552.4355502458374\n",
      "R2: 0.4\n",
      "\n"
     ]
    }
   ],
   "source": [
    "#Probamos una regresión múltiple con CABA y todas las Feauters\n",
    "feature_cols_CABA = ['surface_total_in_m2', 'surface_covered_in_m2', 'Garage', 'Estado', 'Pileta', 'Balcon', 'Gimnasio', 'Quincho', 'Parrilla', 'Patio', \n",
    "                    'Lavadero', 'Tipo_Propiedad_apartment', 'Tipo_Propiedad_house', 'Tipo_Propiedad_store', \"dist_subte\",\n",
    "                    2.0, 3.0, 4.0, 5.0, 6.0, 7.0, 8.0, 9.0, 10.0, 'Caballito', 'Palermo', 'Belgrano', 'Recoleta', 'Flores', 'Balvanera',\n",
    "                     'Almagro', 'Villa Crespo','Villa Urquiza','San Telmo','Floresta', 'Nuñez', 'Villa Luro', 'San Cristóbal',\n",
    "                     'Saavedra','Barracas', 'Villa Devoto','San Nicolás','Monserrat','Villa del Parque','Liniers','Mataderos',\n",
    "                     'Colegiales','Boedo','Parque Patricios','Parque Chacabuco','Coghlan','Chacarita','Paternal','Villa Lugano',\n",
    "                     'Constitución','Villa Pueyrredón','Boca','Retiro', 'Parque Avellaneda','Monte Castro' ,'Villa Ortuzar',\n",
    "                     'Villa Gral. Mitre','Versalles','Villa Santa Rita','Villa Real','Vélez Sársfield','Nueva Pompeya',\n",
    "                     'Parque Chas','Puerto Madero','Villa Riachuelo','Villa Soldati' ]\n",
    "\n",
    "a = train_test_error_CABA(feature_cols_CABA)\n",
    "a"
   ]
  },
  {
   "cell_type": "markdown",
   "id": "periodic-holmes",
   "metadata": {},
   "source": [
    "<a id=\"section_stats\"></a>\n",
    "\n",
    "### Regresión lineal - StatsModel\n",
    "\n",
    "[volver a TOC](#section_toc)\n"
   ]
  },
  {
   "cell_type": "code",
   "execution_count": 54,
   "id": "underlying-school",
   "metadata": {},
   "outputs": [
    {
     "data": {
      "image/png": "[encoded data removed]",
      "text/plain": [
       "<Figure size 432x288 with 1 Axes>"
      ]
     },
     "metadata": {
      "needs_background": "light"
     },
     "output_type": "display_data"
    },
    {
     "name": "stdout",
     "output_type": "stream",
     "text": [
      "EMC: 250659.21371204103\n",
      "                            OLS Regression Results                            \n",
      "==============================================================================\n",
      "Dep. Variable:          Precio_por_m2   R-squared:                       0.507\n",
      "Model:                            OLS   Adj. R-squared:                  0.503\n",
      "Method:                 Least Squares   F-statistic:                     130.8\n",
      "Date:                Tue, 04 May 2021   Prob (F-statistic):               0.00\n",
      "Time:                        13:47:36   Log-Likelihood:                -69561.\n",
      "No. Observations:                9111   AIC:                         1.393e+05\n",
      "Df Residuals:                    9039   BIC:                         1.398e+05\n",
      "Df Model:                          71                                         \n",
      "Covariance Type:            nonrobust                                         \n",
      "============================================================================================\n",
      "                               coef    std err          t      P>|t|      [0.025      0.975]\n",
      "--------------------------------------------------------------------------------------------\n",
      "const                     2218.9417    101.148     21.938      0.000    2020.669    2417.214\n",
      "surface_total_in_m2          4.2065      0.243     17.293      0.000       3.730       4.683\n",
      "surface_covered_in_m2       -6.7769      0.290    -23.359      0.000      -7.346      -6.208\n",
      "Garage                     148.6076     15.226      9.760      0.000     118.761     178.454\n",
      "Estado                     140.2455     26.186      5.356      0.000      88.915     191.576\n",
      "Pileta                     247.9100     21.508     11.526      0.000     205.749     290.071\n",
      "Balcon                      37.3352     11.659      3.202      0.001      14.481      60.189\n",
      "Gimnasio                   195.1669     28.844      6.766      0.000     138.627     251.707\n",
      "Quincho                     95.9485     32.195      2.980      0.003      32.839     159.058\n",
      "Parrilla                    12.2968     17.487      0.703      0.482     -21.982      46.575\n",
      "Patio                      -47.5763     16.533     -2.878      0.004     -79.984     -15.169\n",
      "Lavadero                   -57.9084     13.349     -4.338      0.000     -84.076     -31.741\n",
      "Tipo_Propiedad_apartment   291.6141     22.312     13.070      0.000     247.877     335.352\n",
      "Tipo_Propiedad_house       -71.9935     34.354     -2.096      0.036    -139.335      -4.652\n",
      "Tipo_Propiedad_store       -55.5190    104.325     -0.532      0.595    -260.019     148.981\n",
      "dist_subte                 -23.1703     11.826     -1.959      0.050     -46.352       0.011\n",
      "2.0                        -45.4673     20.725     -2.194      0.028     -86.093      -4.841\n",
      "3.0                        -57.4371     21.287     -2.698      0.007     -99.164     -15.710\n",
      "4.0                         12.8681     23.699      0.543      0.587     -33.588      59.324\n",
      "5.0                        -79.6912     36.832     -2.164      0.031    -151.890      -7.493\n",
      "6.0                       -110.1431     56.615     -1.945      0.052    -221.122       0.836\n",
      "7.0                       -124.3691     76.078     -1.635      0.102    -273.499      24.761\n",
      "8.0                        203.2773    141.485      1.437      0.151     -74.066     480.621\n",
      "9.0                       -438.6424    193.059     -2.272      0.023    -817.082     -60.203\n",
      "10.0                      -345.4387    296.582     -1.165      0.244    -926.806     235.928\n",
      "Caballito                  356.5606     97.369      3.662      0.000     165.695     547.427\n",
      "Palermo                    764.9471     97.460      7.849      0.000     573.904     955.990\n",
      "Belgrano                   788.6780     97.967      8.050      0.000     596.640     980.716\n",
      "Recoleta                   659.8622     98.846      6.676      0.000     466.102     853.623\n",
      "Flores                    -214.9161     98.430     -2.183      0.029    -407.860     -21.972\n",
      "Balvanera                 -279.8435     99.256     -2.819      0.005    -474.407     -85.280\n",
      "Almagro                     38.9862     99.272      0.393      0.695    -155.609     233.582\n",
      "Villa Crespo               356.4641     99.162      3.595      0.000     162.084     550.844\n",
      "Villa Urquiza              384.2957     98.984      3.882      0.000     190.264     578.328\n",
      "San Telmo                  -22.6438     99.732     -0.227      0.820    -218.141     172.853\n",
      "Floresta                  -268.1132    101.308     -2.647      0.008    -466.699     -69.527\n",
      "Nuñez                      726.9816    101.470      7.164      0.000     528.077     925.886\n",
      "Villa Luro                  50.0178    104.023      0.481      0.631    -153.891     253.927\n",
      "San Cristóbal             -301.0005    103.734     -2.902      0.004    -504.343     -97.658\n",
      "Saavedra                   346.7290    102.534      3.382      0.001     145.739     547.719\n",
      "Barracas                   -89.5519    102.907     -0.870      0.384    -291.273     112.169\n",
      "Villa Devoto               266.0245    105.994      2.510      0.012      58.252     473.797\n",
      "San Nicolás                -88.5021    104.499     -0.847      0.397    -293.344     116.340\n",
      "Monserrat                 -303.9776    105.490     -2.882      0.004    -510.763     -97.192\n",
      "Villa del Parque            -8.8800    104.507     -0.085      0.932    -213.737     195.977\n",
      "Liniers                    -70.2783    110.495     -0.636      0.525    -286.873     146.317\n",
      "Mataderos                 -271.3539    108.963     -2.490      0.013    -484.947     -57.761\n",
      "Colegiales                 370.1617    106.540      3.474      0.001     161.318     579.005\n",
      "Boedo                     -101.0914    107.176     -0.943      0.346    -311.181     108.998\n",
      "Parque Patricios          -253.6229    108.905     -2.329      0.020    -467.101     -40.145\n",
      "Parque Chacabuco          -189.3444    109.056     -1.736      0.083    -403.119      24.430\n",
      "Coghlan                    463.5931    110.064      4.212      0.000     247.842     679.344\n",
      "Chacarita                  103.1775    112.216      0.919      0.358    -116.791     323.146\n",
      "Paternal                   -76.3003    112.378     -0.679      0.497    -296.586     143.985\n",
      "Villa Lugano              -725.7978    116.829     -6.212      0.000    -954.810    -496.786\n",
      "Constitución              -594.9453    115.549     -5.149      0.000    -821.447    -368.444\n",
      "Villa Pueyrredón           -13.4176    114.472     -0.117      0.907    -237.809     210.974\n",
      "Boca                      -570.5005    115.351     -4.946      0.000    -796.614    -344.387\n",
      "Retiro                     418.8855    119.974      3.491      0.000     183.710     654.061\n",
      "Parque Avellaneda         -499.2030    120.805     -4.132      0.000    -736.008    -262.398\n",
      "Monte Castro               -50.4981    127.165     -0.397      0.691    -299.771     198.775\n",
      "Villa Ortuzar              202.7358    129.303      1.568      0.117     -50.727     456.199\n",
      "Villa Gral. Mitre         -102.2309    135.107     -0.757      0.449    -367.071     162.609\n",
      "Versalles                  107.0503    141.995      0.754      0.451    -171.292     385.393\n",
      "Villa Santa Rita           -62.9583    138.577     -0.454      0.650    -334.601     208.685\n",
      "Villa Real                 130.5816    146.283      0.893      0.372    -156.166     417.329\n",
      "Vélez Sársfield           -245.0431    147.676     -1.659      0.097    -534.521      44.435\n",
      "Nueva Pompeya             -768.2290    150.000     -5.122      0.000   -1062.262    -474.196\n",
      "Parque Chas                299.7256    155.412      1.929      0.054      -4.917     604.369\n",
      "Puerto Madero             1721.2759    179.393      9.595      0.000    1369.625    2072.927\n",
      "Villa Riachuelo           -525.3273    309.747     -1.696      0.090   -1132.502      81.847\n",
      "Villa Soldati             -902.6908    368.650     -2.449      0.014   -1625.328    -180.054\n",
      "==============================================================================\n",
      "Omnibus:                      271.564   Durbin-Watson:                   1.592\n",
      "Prob(Omnibus):                  0.000   Jarque-Bera (JB):              330.485\n",
      "Skew:                           0.369   Prob(JB):                     1.72e-72\n",
      "Kurtosis:                       3.571   Cond. No.                     1.80e+04\n",
      "==============================================================================\n",
      "\n",
      "Notes:\n",
      "[1] Standard Errors assume that the covariance matrix of the errors is correctly specified.\n",
      "[2] The condition number is large, 1.8e+04. This might indicate that there are\n",
      "strong multicollinearity or other numerical problems.\n"
     ]
    }
   ],
   "source": [
    "from sklearn.metrics import mean_absolute_error, mean_squared_error, r2_score\n",
    "# Importamos la api.\n",
    "import statsmodels.api as sm\n",
    "\n",
    "# De manera análoga a la vista en el primer ejercicio, definimos el vector de variables con la primer variable RM.\n",
    "X = data2[(feature_cols_CABA)]\n",
    "y = data2.Precio_por_m2\n",
    "\n",
    "# Tenemos que agregar explícitamente a una constante:\n",
    "X = sm.add_constant(X)\n",
    "\n",
    "model = sm.OLS(y, X).fit()\n",
    "predictions = model.predict(X)\n",
    "\n",
    "# Graficamos los resultados\n",
    "plt.plot(y,y, '-.', c='grey')\n",
    "#plt.figure(figsize=(20,10))\n",
    "plt.scatter(predictions, y, s=1, c='r', marker='+', zorder=10)\n",
    "plt.xlabel(\"Predicciones usando Features\")\n",
    "plt.ylabel(\"Valores reales Precio_por_m2\")\n",
    "plt.show()\n",
    "\n",
    "# Imprimimos el MSE y un resumen del modelo\n",
    "print (\"EMC:\", mean_squared_error(y, predictions))\n",
    "print (model.summary())"
   ]
  },
  {
   "cell_type": "code",
   "execution_count": 55,
   "id": "divine-contract",
   "metadata": {},
   "outputs": [],
   "source": [
    "X = data2[feature_cols_CABA]"
   ]
  },
  {
   "cell_type": "markdown",
   "id": "crucial-shepherd",
   "metadata": {},
   "source": [
    "<a id=\"section_regu\"></a>\n",
    "\n",
    "### Regularización Ridge y Lasso\n",
    "\n",
    "[volver a TOC](#section_toc)\n"
   ]
  },
  {
   "cell_type": "code",
   "execution_count": 56,
   "id": "accessible-netherlands",
   "metadata": {},
   "outputs": [],
   "source": [
    "X_train, X_test, y_train, y_test = train_test_split(X,y, shuffle=True, random_state=10, test_size= 0.33)"
   ]
  },
  {
   "cell_type": "code",
   "execution_count": 57,
   "id": "interpreted-variance",
   "metadata": {},
   "outputs": [
    {
     "data": {
      "text/plain": [
       "(6104, 71)"
      ]
     },
     "execution_count": 57,
     "metadata": {},
     "output_type": "execute_result"
    }
   ],
   "source": [
    "X_train.shape"
   ]
  },
  {
   "cell_type": "code",
   "execution_count": 58,
   "id": "thousand-paste",
   "metadata": {},
   "outputs": [
    {
     "data": {
      "text/plain": [
       "(3007,)"
      ]
     },
     "execution_count": 58,
     "metadata": {},
     "output_type": "execute_result"
    }
   ],
   "source": [
    "y_test.shape"
   ]
  },
  {
   "cell_type": "code",
   "execution_count": 59,
   "id": "superior-relations",
   "metadata": {},
   "outputs": [
    {
     "data": {
      "text/html": [
       "<table class=\"simpletable\">\n",
       "<caption>OLS Regression Results</caption>\n",
       "<tr>\n",
       "  <th>Dep. Variable:</th>      <td>Precio_por_m2</td>  <th>  R-squared:         </th> <td>   0.502</td> \n",
       "</tr>\n",
       "<tr>\n",
       "  <th>Model:</th>                   <td>OLS</td>       <th>  Adj. R-squared:    </th> <td>   0.496</td> \n",
       "</tr>\n",
       "<tr>\n",
       "  <th>Method:</th>             <td>Least Squares</td>  <th>  F-statistic:       </th> <td>   85.64</td> \n",
       "</tr>\n",
       "<tr>\n",
       "  <th>Date:</th>             <td>Tue, 04 May 2021</td> <th>  Prob (F-statistic):</th>  <td>  0.00</td>  \n",
       "</tr>\n",
       "<tr>\n",
       "  <th>Time:</th>                 <td>13:47:37</td>     <th>  Log-Likelihood:    </th> <td> -46613.</td> \n",
       "</tr>\n",
       "<tr>\n",
       "  <th>No. Observations:</th>      <td>  6104</td>      <th>  AIC:               </th> <td>9.337e+04</td>\n",
       "</tr>\n",
       "<tr>\n",
       "  <th>Df Residuals:</th>          <td>  6032</td>      <th>  BIC:               </th> <td>9.385e+04</td>\n",
       "</tr>\n",
       "<tr>\n",
       "  <th>Df Model:</th>              <td>    71</td>      <th>                     </th>     <td> </td>    \n",
       "</tr>\n",
       "<tr>\n",
       "  <th>Covariance Type:</th>      <td>nonrobust</td>    <th>                     </th>     <td> </td>    \n",
       "</tr>\n",
       "</table>\n",
       "<table class=\"simpletable\">\n",
       "<tr>\n",
       "              <td></td>                <th>coef</th>     <th>std err</th>      <th>t</th>      <th>P>|t|</th>  <th>[0.025</th>    <th>0.975]</th>  \n",
       "</tr>\n",
       "<tr>\n",
       "  <th>const</th>                    <td> 2153.9840</td> <td>  118.576</td> <td>   18.165</td> <td> 0.000</td> <td> 1921.533</td> <td> 2386.435</td>\n",
       "</tr>\n",
       "<tr>\n",
       "  <th>surface_total_in_m2</th>      <td>    4.1236</td> <td>    0.296</td> <td>   13.944</td> <td> 0.000</td> <td>    3.544</td> <td>    4.703</td>\n",
       "</tr>\n",
       "<tr>\n",
       "  <th>surface_covered_in_m2</th>    <td>   -6.7809</td> <td>    0.364</td> <td>  -18.631</td> <td> 0.000</td> <td>   -7.494</td> <td>   -6.067</td>\n",
       "</tr>\n",
       "<tr>\n",
       "  <th>Garage</th>                   <td>  125.9867</td> <td>   18.771</td> <td>    6.712</td> <td> 0.000</td> <td>   89.189</td> <td>  162.784</td>\n",
       "</tr>\n",
       "<tr>\n",
       "  <th>Estado</th>                   <td>  185.2462</td> <td>   31.913</td> <td>    5.805</td> <td> 0.000</td> <td>  122.685</td> <td>  247.807</td>\n",
       "</tr>\n",
       "<tr>\n",
       "  <th>Pileta</th>                   <td>  221.0535</td> <td>   26.756</td> <td>    8.262</td> <td> 0.000</td> <td>  168.602</td> <td>  273.505</td>\n",
       "</tr>\n",
       "<tr>\n",
       "  <th>Balcon</th>                   <td>   42.4563</td> <td>   14.395</td> <td>    2.949</td> <td> 0.003</td> <td>   14.238</td> <td>   70.675</td>\n",
       "</tr>\n",
       "<tr>\n",
       "  <th>Gimnasio</th>                 <td>  183.3630</td> <td>   35.051</td> <td>    5.231</td> <td> 0.000</td> <td>  114.650</td> <td>  252.076</td>\n",
       "</tr>\n",
       "<tr>\n",
       "  <th>Quincho</th>                  <td>  110.1554</td> <td>   39.489</td> <td>    2.790</td> <td> 0.005</td> <td>   32.743</td> <td>  187.568</td>\n",
       "</tr>\n",
       "<tr>\n",
       "  <th>Parrilla</th>                 <td>   19.2124</td> <td>   21.891</td> <td>    0.878</td> <td> 0.380</td> <td>  -23.702</td> <td>   62.126</td>\n",
       "</tr>\n",
       "<tr>\n",
       "  <th>Patio</th>                    <td>  -22.3411</td> <td>   20.271</td> <td>   -1.102</td> <td> 0.270</td> <td>  -62.080</td> <td>   17.398</td>\n",
       "</tr>\n",
       "<tr>\n",
       "  <th>Lavadero</th>                 <td>  -49.2706</td> <td>   16.410</td> <td>   -3.003</td> <td> 0.003</td> <td>  -81.439</td> <td>  -17.102</td>\n",
       "</tr>\n",
       "<tr>\n",
       "  <th>Tipo_Propiedad_apartment</th> <td>  318.2115</td> <td>   27.539</td> <td>   11.555</td> <td> 0.000</td> <td>  264.225</td> <td>  372.198</td>\n",
       "</tr>\n",
       "<tr>\n",
       "  <th>Tipo_Propiedad_house</th>     <td>  -35.8548</td> <td>   42.535</td> <td>   -0.843</td> <td> 0.399</td> <td> -119.239</td> <td>   47.530</td>\n",
       "</tr>\n",
       "<tr>\n",
       "  <th>Tipo_Propiedad_store</th>     <td>  -77.5235</td> <td>  128.536</td> <td>   -0.603</td> <td> 0.546</td> <td> -329.500</td> <td>  174.453</td>\n",
       "</tr>\n",
       "<tr>\n",
       "  <th>dist_subte</th>               <td>  -23.0074</td> <td>   14.373</td> <td>   -1.601</td> <td> 0.109</td> <td>  -51.184</td> <td>    5.169</td>\n",
       "</tr>\n",
       "<tr>\n",
       "  <th>2.0</th>                      <td>  -15.5376</td> <td>   25.940</td> <td>   -0.599</td> <td> 0.549</td> <td>  -66.389</td> <td>   35.314</td>\n",
       "</tr>\n",
       "<tr>\n",
       "  <th>3.0</th>                      <td>  -23.4808</td> <td>   26.737</td> <td>   -0.878</td> <td> 0.380</td> <td>  -75.894</td> <td>   28.933</td>\n",
       "</tr>\n",
       "<tr>\n",
       "  <th>4.0</th>                      <td>   34.4407</td> <td>   29.855</td> <td>    1.154</td> <td> 0.249</td> <td>  -24.087</td> <td>   92.968</td>\n",
       "</tr>\n",
       "<tr>\n",
       "  <th>5.0</th>                      <td>  -58.7258</td> <td>   46.043</td> <td>   -1.275</td> <td> 0.202</td> <td> -148.987</td> <td>   31.535</td>\n",
       "</tr>\n",
       "<tr>\n",
       "  <th>6.0</th>                      <td>  -44.6979</td> <td>   71.254</td> <td>   -0.627</td> <td> 0.530</td> <td> -184.382</td> <td>   94.986</td>\n",
       "</tr>\n",
       "<tr>\n",
       "  <th>7.0</th>                      <td> -129.4284</td> <td>   95.414</td> <td>   -1.356</td> <td> 0.175</td> <td> -316.474</td> <td>   57.617</td>\n",
       "</tr>\n",
       "<tr>\n",
       "  <th>8.0</th>                      <td>   10.1889</td> <td>  165.769</td> <td>    0.061</td> <td> 0.951</td> <td> -314.777</td> <td>  335.155</td>\n",
       "</tr>\n",
       "<tr>\n",
       "  <th>9.0</th>                      <td> -495.5080</td> <td>  229.848</td> <td>   -2.156</td> <td> 0.031</td> <td> -946.091</td> <td>  -44.925</td>\n",
       "</tr>\n",
       "<tr>\n",
       "  <th>10.0</th>                     <td> -527.4561</td> <td>  518.040</td> <td>   -1.018</td> <td> 0.309</td> <td>-1542.999</td> <td>  488.087</td>\n",
       "</tr>\n",
       "<tr>\n",
       "  <th>Caballito</th>                <td>  402.0904</td> <td>  113.381</td> <td>    3.546</td> <td> 0.000</td> <td>  179.823</td> <td>  624.357</td>\n",
       "</tr>\n",
       "<tr>\n",
       "  <th>Palermo</th>                  <td>  793.5206</td> <td>  113.473</td> <td>    6.993</td> <td> 0.000</td> <td>  571.073</td> <td> 1015.968</td>\n",
       "</tr>\n",
       "<tr>\n",
       "  <th>Belgrano</th>                 <td>  831.3864</td> <td>  114.180</td> <td>    7.281</td> <td> 0.000</td> <td>  607.552</td> <td> 1055.221</td>\n",
       "</tr>\n",
       "<tr>\n",
       "  <th>Recoleta</th>                 <td>  658.8115</td> <td>  115.208</td> <td>    5.718</td> <td> 0.000</td> <td>  432.963</td> <td>  884.660</td>\n",
       "</tr>\n",
       "<tr>\n",
       "  <th>Flores</th>                   <td> -191.5931</td> <td>  114.647</td> <td>   -1.671</td> <td> 0.095</td> <td> -416.342</td> <td>   33.156</td>\n",
       "</tr>\n",
       "<tr>\n",
       "  <th>Balvanera</th>                <td> -253.2671</td> <td>  115.818</td> <td>   -2.187</td> <td> 0.029</td> <td> -480.313</td> <td>  -26.222</td>\n",
       "</tr>\n",
       "<tr>\n",
       "  <th>Almagro</th>                  <td>   22.5221</td> <td>  115.516</td> <td>    0.195</td> <td> 0.845</td> <td> -203.931</td> <td>  248.975</td>\n",
       "</tr>\n",
       "<tr>\n",
       "  <th>Villa Crespo</th>             <td>  368.7319</td> <td>  115.672</td> <td>    3.188</td> <td> 0.001</td> <td>  141.974</td> <td>  595.490</td>\n",
       "</tr>\n",
       "<tr>\n",
       "  <th>Villa Urquiza</th>            <td>  402.0389</td> <td>  115.398</td> <td>    3.484</td> <td> 0.000</td> <td>  175.817</td> <td>  628.261</td>\n",
       "</tr>\n",
       "<tr>\n",
       "  <th>San Telmo</th>                <td>  -11.1772</td> <td>  116.177</td> <td>   -0.096</td> <td> 0.923</td> <td> -238.926</td> <td>  216.572</td>\n",
       "</tr>\n",
       "<tr>\n",
       "  <th>Floresta</th>                 <td> -230.9354</td> <td>  118.075</td> <td>   -1.956</td> <td> 0.051</td> <td> -462.405</td> <td>    0.534</td>\n",
       "</tr>\n",
       "<tr>\n",
       "  <th>Nuñez</th>                    <td>  739.8903</td> <td>  117.950</td> <td>    6.273</td> <td> 0.000</td> <td>  508.666</td> <td>  971.114</td>\n",
       "</tr>\n",
       "<tr>\n",
       "  <th>Villa Luro</th>               <td>   44.4850</td> <td>  121.587</td> <td>    0.366</td> <td> 0.714</td> <td> -193.870</td> <td>  282.840</td>\n",
       "</tr>\n",
       "<tr>\n",
       "  <th>San Cristóbal</th>            <td> -286.7074</td> <td>  121.520</td> <td>   -2.359</td> <td> 0.018</td> <td> -524.930</td> <td>  -48.485</td>\n",
       "</tr>\n",
       "<tr>\n",
       "  <th>Saavedra</th>                 <td>  370.8510</td> <td>  118.854</td> <td>    3.120</td> <td> 0.002</td> <td>  137.856</td> <td>  603.846</td>\n",
       "</tr>\n",
       "<tr>\n",
       "  <th>Barracas</th>                 <td>  -65.6984</td> <td>  119.998</td> <td>   -0.547</td> <td> 0.584</td> <td> -300.937</td> <td>  169.540</td>\n",
       "</tr>\n",
       "<tr>\n",
       "  <th>Villa Devoto</th>             <td>  267.7609</td> <td>  123.556</td> <td>    2.167</td> <td> 0.030</td> <td>   25.546</td> <td>  509.976</td>\n",
       "</tr>\n",
       "<tr>\n",
       "  <th>San Nicolás</th>              <td>  -42.2380</td> <td>  122.730</td> <td>   -0.344</td> <td> 0.731</td> <td> -282.834</td> <td>  198.358</td>\n",
       "</tr>\n",
       "<tr>\n",
       "  <th>Monserrat</th>                <td> -287.7270</td> <td>  123.828</td> <td>   -2.324</td> <td> 0.020</td> <td> -530.474</td> <td>  -44.980</td>\n",
       "</tr>\n",
       "<tr>\n",
       "  <th>Villa del Parque</th>         <td>   -8.5231</td> <td>  123.373</td> <td>   -0.069</td> <td> 0.945</td> <td> -250.378</td> <td>  233.332</td>\n",
       "</tr>\n",
       "<tr>\n",
       "  <th>Liniers</th>                  <td>  -64.1905</td> <td>  128.865</td> <td>   -0.498</td> <td> 0.618</td> <td> -316.812</td> <td>  188.431</td>\n",
       "</tr>\n",
       "<tr>\n",
       "  <th>Mataderos</th>                <td> -223.6485</td> <td>  126.704</td> <td>   -1.765</td> <td> 0.078</td> <td> -472.035</td> <td>   24.738</td>\n",
       "</tr>\n",
       "<tr>\n",
       "  <th>Colegiales</th>               <td>  363.9258</td> <td>  125.081</td> <td>    2.910</td> <td> 0.004</td> <td>  118.722</td> <td>  609.130</td>\n",
       "</tr>\n",
       "<tr>\n",
       "  <th>Boedo</th>                    <td>  -64.7323</td> <td>  125.761</td> <td>   -0.515</td> <td> 0.607</td> <td> -311.269</td> <td>  181.805</td>\n",
       "</tr>\n",
       "<tr>\n",
       "  <th>Parque Patricios</th>         <td> -225.5197</td> <td>  130.256</td> <td>   -1.731</td> <td> 0.083</td> <td> -480.869</td> <td>   29.829</td>\n",
       "</tr>\n",
       "<tr>\n",
       "  <th>Parque Chacabuco</th>         <td> -162.1718</td> <td>  128.987</td> <td>   -1.257</td> <td> 0.209</td> <td> -415.033</td> <td>   90.689</td>\n",
       "</tr>\n",
       "<tr>\n",
       "  <th>Coghlan</th>                  <td>  390.6022</td> <td>  134.607</td> <td>    2.902</td> <td> 0.004</td> <td>  126.725</td> <td>  654.479</td>\n",
       "</tr>\n",
       "<tr>\n",
       "  <th>Chacarita</th>                <td>   70.0266</td> <td>  132.885</td> <td>    0.527</td> <td> 0.598</td> <td> -190.475</td> <td>  330.528</td>\n",
       "</tr>\n",
       "<tr>\n",
       "  <th>Paternal</th>                 <td>  -48.2391</td> <td>  133.760</td> <td>   -0.361</td> <td> 0.718</td> <td> -310.457</td> <td>  213.979</td>\n",
       "</tr>\n",
       "<tr>\n",
       "  <th>Villa Lugano</th>             <td> -766.0152</td> <td>  136.754</td> <td>   -5.601</td> <td> 0.000</td> <td>-1034.103</td> <td> -497.928</td>\n",
       "</tr>\n",
       "<tr>\n",
       "  <th>Constitución</th>             <td> -680.0970</td> <td>  138.952</td> <td>   -4.894</td> <td> 0.000</td> <td> -952.493</td> <td> -407.701</td>\n",
       "</tr>\n",
       "<tr>\n",
       "  <th>Villa Pueyrredón</th>         <td>   67.9419</td> <td>  133.094</td> <td>    0.510</td> <td> 0.610</td> <td> -192.969</td> <td>  328.853</td>\n",
       "</tr>\n",
       "<tr>\n",
       "  <th>Boca</th>                     <td> -545.0644</td> <td>  138.752</td> <td>   -3.928</td> <td> 0.000</td> <td> -817.068</td> <td> -273.061</td>\n",
       "</tr>\n",
       "<tr>\n",
       "  <th>Retiro</th>                   <td>  440.2570</td> <td>  140.420</td> <td>    3.135</td> <td> 0.002</td> <td>  164.983</td> <td>  715.531</td>\n",
       "</tr>\n",
       "<tr>\n",
       "  <th>Parque Avellaneda</th>        <td> -489.4608</td> <td>  145.868</td> <td>   -3.356</td> <td> 0.001</td> <td> -775.414</td> <td> -203.508</td>\n",
       "</tr>\n",
       "<tr>\n",
       "  <th>Monte Castro</th>             <td>  -73.6844</td> <td>  151.599</td> <td>   -0.486</td> <td> 0.627</td> <td> -370.873</td> <td>  223.504</td>\n",
       "</tr>\n",
       "<tr>\n",
       "  <th>Villa Ortuzar</th>            <td>  104.7685</td> <td>  151.924</td> <td>    0.690</td> <td> 0.490</td> <td> -193.057</td> <td>  402.594</td>\n",
       "</tr>\n",
       "<tr>\n",
       "  <th>Villa Gral. Mitre</th>        <td>  -92.0724</td> <td>  162.590</td> <td>   -0.566</td> <td> 0.571</td> <td> -410.806</td> <td>  226.661</td>\n",
       "</tr>\n",
       "<tr>\n",
       "  <th>Versalles</th>                <td>  305.1434</td> <td>  188.146</td> <td>    1.622</td> <td> 0.105</td> <td>  -63.691</td> <td>  673.978</td>\n",
       "</tr>\n",
       "<tr>\n",
       "  <th>Villa Santa Rita</th>         <td> -119.6418</td> <td>  162.394</td> <td>   -0.737</td> <td> 0.461</td> <td> -437.992</td> <td>  198.708</td>\n",
       "</tr>\n",
       "<tr>\n",
       "  <th>Villa Real</th>               <td>  162.6820</td> <td>  165.571</td> <td>    0.983</td> <td> 0.326</td> <td> -161.897</td> <td>  487.261</td>\n",
       "</tr>\n",
       "<tr>\n",
       "  <th>Vélez Sársfield</th>          <td> -258.0126</td> <td>  174.539</td> <td>   -1.478</td> <td> 0.139</td> <td> -600.172</td> <td>   84.147</td>\n",
       "</tr>\n",
       "<tr>\n",
       "  <th>Nueva Pompeya</th>            <td> -758.0445</td> <td>  183.029</td> <td>   -4.142</td> <td> 0.000</td> <td>-1116.846</td> <td> -399.243</td>\n",
       "</tr>\n",
       "<tr>\n",
       "  <th>Parque Chas</th>              <td>  338.8684</td> <td>  183.691</td> <td>    1.845</td> <td> 0.065</td> <td>  -21.232</td> <td>  698.969</td>\n",
       "</tr>\n",
       "<tr>\n",
       "  <th>Puerto Madero</th>            <td> 1642.3235</td> <td>  220.688</td> <td>    7.442</td> <td> 0.000</td> <td> 1209.696</td> <td> 2074.951</td>\n",
       "</tr>\n",
       "<tr>\n",
       "  <th>Villa Riachuelo</th>          <td> -272.5468</td> <td>  378.360</td> <td>   -0.720</td> <td> 0.471</td> <td>-1014.268</td> <td>  469.174</td>\n",
       "</tr>\n",
       "<tr>\n",
       "  <th>Villa Soldati</th>            <td> -918.9299</td> <td>  516.769</td> <td>   -1.778</td> <td> 0.075</td> <td>-1931.982</td> <td>   94.122</td>\n",
       "</tr>\n",
       "</table>\n",
       "<table class=\"simpletable\">\n",
       "<tr>\n",
       "  <th>Omnibus:</th>       <td>162.453</td> <th>  Durbin-Watson:     </th> <td>   2.024</td>\n",
       "</tr>\n",
       "<tr>\n",
       "  <th>Prob(Omnibus):</th> <td> 0.000</td>  <th>  Jarque-Bera (JB):  </th> <td> 190.028</td>\n",
       "</tr>\n",
       "<tr>\n",
       "  <th>Skew:</th>          <td> 0.356</td>  <th>  Prob(JB):          </th> <td>5.44e-42</td>\n",
       "</tr>\n",
       "<tr>\n",
       "  <th>Kurtosis:</th>      <td> 3.491</td>  <th>  Cond. No.          </th> <td>1.67e+04</td>\n",
       "</tr>\n",
       "</table><br/><br/>Notes:<br/>[1] Standard Errors assume that the covariance matrix of the errors is correctly specified.<br/>[2] The condition number is large, 1.67e+04. This might indicate that there are<br/>strong multicollinearity or other numerical problems."
      ],
      "text/plain": [
       "<class 'statsmodels.iolib.summary.Summary'>\n",
       "\"\"\"\n",
       "                            OLS Regression Results                            \n",
       "==============================================================================\n",
       "Dep. Variable:          Precio_por_m2   R-squared:                       0.502\n",
       "Model:                            OLS   Adj. R-squared:                  0.496\n",
       "Method:                 Least Squares   F-statistic:                     85.64\n",
       "Date:                Tue, 04 May 2021   Prob (F-statistic):               0.00\n",
       "Time:                        13:47:37   Log-Likelihood:                -46613.\n",
       "No. Observations:                6104   AIC:                         9.337e+04\n",
       "Df Residuals:                    6032   BIC:                         9.385e+04\n",
       "Df Model:                          71                                         \n",
       "Covariance Type:            nonrobust                                         \n",
       "============================================================================================\n",
       "                               coef    std err          t      P>|t|      [0.025      0.975]\n",
       "--------------------------------------------------------------------------------------------\n",
       "const                     2153.9840    118.576     18.165      0.000    1921.533    2386.435\n",
       "surface_total_in_m2          4.1236      0.296     13.944      0.000       3.544       4.703\n",
       "surface_covered_in_m2       -6.7809      0.364    -18.631      0.000      -7.494      -6.067\n",
       "Garage                     125.9867     18.771      6.712      0.000      89.189     162.784\n",
       "Estado                     185.2462     31.913      5.805      0.000     122.685     247.807\n",
       "Pileta                     221.0535     26.756      8.262      0.000     168.602     273.505\n",
       "Balcon                      42.4563     14.395      2.949      0.003      14.238      70.675\n",
       "Gimnasio                   183.3630     35.051      5.231      0.000     114.650     252.076\n",
       "Quincho                    110.1554     39.489      2.790      0.005      32.743     187.568\n",
       "Parrilla                    19.2124     21.891      0.878      0.380     -23.702      62.126\n",
       "Patio                      -22.3411     20.271     -1.102      0.270     -62.080      17.398\n",
       "Lavadero                   -49.2706     16.410     -3.003      0.003     -81.439     -17.102\n",
       "Tipo_Propiedad_apartment   318.2115     27.539     11.555      0.000     264.225     372.198\n",
       "Tipo_Propiedad_house       -35.8548     42.535     -0.843      0.399    -119.239      47.530\n",
       "Tipo_Propiedad_store       -77.5235    128.536     -0.603      0.546    -329.500     174.453\n",
       "dist_subte                 -23.0074     14.373     -1.601      0.109     -51.184       5.169\n",
       "2.0                        -15.5376     25.940     -0.599      0.549     -66.389      35.314\n",
       "3.0                        -23.4808     26.737     -0.878      0.380     -75.894      28.933\n",
       "4.0                         34.4407     29.855      1.154      0.249     -24.087      92.968\n",
       "5.0                        -58.7258     46.043     -1.275      0.202    -148.987      31.535\n",
       "6.0                        -44.6979     71.254     -0.627      0.530    -184.382      94.986\n",
       "7.0                       -129.4284     95.414     -1.356      0.175    -316.474      57.617\n",
       "8.0                         10.1889    165.769      0.061      0.951    -314.777     335.155\n",
       "9.0                       -495.5080    229.848     -2.156      0.031    -946.091     -44.925\n",
       "10.0                      -527.4561    518.040     -1.018      0.309   -1542.999     488.087\n",
       "Caballito                  402.0904    113.381      3.546      0.000     179.823     624.357\n",
       "Palermo                    793.5206    113.473      6.993      0.000     571.073    1015.968\n",
       "Belgrano                   831.3864    114.180      7.281      0.000     607.552    1055.221\n",
       "Recoleta                   658.8115    115.208      5.718      0.000     432.963     884.660\n",
       "Flores                    -191.5931    114.647     -1.671      0.095    -416.342      33.156\n",
       "Balvanera                 -253.2671    115.818     -2.187      0.029    -480.313     -26.222\n",
       "Almagro                     22.5221    115.516      0.195      0.845    -203.931     248.975\n",
       "Villa Crespo               368.7319    115.672      3.188      0.001     141.974     595.490\n",
       "Villa Urquiza              402.0389    115.398      3.484      0.000     175.817     628.261\n",
       "San Telmo                  -11.1772    116.177     -0.096      0.923    -238.926     216.572\n",
       "Floresta                  -230.9354    118.075     -1.956      0.051    -462.405       0.534\n",
       "Nuñez                      739.8903    117.950      6.273      0.000     508.666     971.114\n",
       "Villa Luro                  44.4850    121.587      0.366      0.714    -193.870     282.840\n",
       "San Cristóbal             -286.7074    121.520     -2.359      0.018    -524.930     -48.485\n",
       "Saavedra                   370.8510    118.854      3.120      0.002     137.856     603.846\n",
       "Barracas                   -65.6984    119.998     -0.547      0.584    -300.937     169.540\n",
       "Villa Devoto               267.7609    123.556      2.167      0.030      25.546     509.976\n",
       "San Nicolás                -42.2380    122.730     -0.344      0.731    -282.834     198.358\n",
       "Monserrat                 -287.7270    123.828     -2.324      0.020    -530.474     -44.980\n",
       "Villa del Parque            -8.5231    123.373     -0.069      0.945    -250.378     233.332\n",
       "Liniers                    -64.1905    128.865     -0.498      0.618    -316.812     188.431\n",
       "Mataderos                 -223.6485    126.704     -1.765      0.078    -472.035      24.738\n",
       "Colegiales                 363.9258    125.081      2.910      0.004     118.722     609.130\n",
       "Boedo                      -64.7323    125.761     -0.515      0.607    -311.269     181.805\n",
       "Parque Patricios          -225.5197    130.256     -1.731      0.083    -480.869      29.829\n",
       "Parque Chacabuco          -162.1718    128.987     -1.257      0.209    -415.033      90.689\n",
       "Coghlan                    390.6022    134.607      2.902      0.004     126.725     654.479\n",
       "Chacarita                   70.0266    132.885      0.527      0.598    -190.475     330.528\n",
       "Paternal                   -48.2391    133.760     -0.361      0.718    -310.457     213.979\n",
       "Villa Lugano              -766.0152    136.754     -5.601      0.000   -1034.103    -497.928\n",
       "Constitución              -680.0970    138.952     -4.894      0.000    -952.493    -407.701\n",
       "Villa Pueyrredón            67.9419    133.094      0.510      0.610    -192.969     328.853\n",
       "Boca                      -545.0644    138.752     -3.928      0.000    -817.068    -273.061\n",
       "Retiro                     440.2570    140.420      3.135      0.002     164.983     715.531\n",
       "Parque Avellaneda         -489.4608    145.868     -3.356      0.001    -775.414    -203.508\n",
       "Monte Castro               -73.6844    151.599     -0.486      0.627    -370.873     223.504\n",
       "Villa Ortuzar              104.7685    151.924      0.690      0.490    -193.057     402.594\n",
       "Villa Gral. Mitre          -92.0724    162.590     -0.566      0.571    -410.806     226.661\n",
       "Versalles                  305.1434    188.146      1.622      0.105     -63.691     673.978\n",
       "Villa Santa Rita          -119.6418    162.394     -0.737      0.461    -437.992     198.708\n",
       "Villa Real                 162.6820    165.571      0.983      0.326    -161.897     487.261\n",
       "Vélez Sársfield           -258.0126    174.539     -1.478      0.139    -600.172      84.147\n",
       "Nueva Pompeya             -758.0445    183.029     -4.142      0.000   -1116.846    -399.243\n",
       "Parque Chas                338.8684    183.691      1.845      0.065     -21.232     698.969\n",
       "Puerto Madero             1642.3235    220.688      7.442      0.000    1209.696    2074.951\n",
       "Villa Riachuelo           -272.5468    378.360     -0.720      0.471   -1014.268     469.174\n",
       "Villa Soldati             -918.9299    516.769     -1.778      0.075   -1931.982      94.122\n",
       "==============================================================================\n",
       "Omnibus:                      162.453   Durbin-Watson:                   2.024\n",
       "Prob(Omnibus):                  0.000   Jarque-Bera (JB):              190.028\n",
       "Skew:                           0.356   Prob(JB):                     5.44e-42\n",
       "Kurtosis:                       3.491   Cond. No.                     1.67e+04\n",
       "==============================================================================\n",
       "\n",
       "Notes:\n",
       "[1] Standard Errors assume that the covariance matrix of the errors is correctly specified.\n",
       "[2] The condition number is large, 1.67e+04. This might indicate that there are\n",
       "strong multicollinearity or other numerical problems.\n",
       "\"\"\""
      ]
     },
     "execution_count": 59,
     "metadata": {},
     "output_type": "execute_result"
    }
   ],
   "source": [
    "baseline = sm.OLS(y_train, sm.add_constant(X_train)).fit()\n",
    "baseline.summary()"
   ]
  },
  {
   "cell_type": "code",
   "execution_count": 60,
   "id": "entitled-belarus",
   "metadata": {},
   "outputs": [],
   "source": [
    "coef_df = pd.DataFrame(baseline.params)\n",
    "coef_df[\"beta\"] = coef_df[0]\n",
    "coef_df.drop(columns=0, inplace=True)"
   ]
  },
  {
   "cell_type": "markdown",
   "id": "bored-advancement",
   "metadata": {},
   "source": [
    "### Regresion Lasso de CABA"
   ]
  },
  {
   "cell_type": "code",
   "execution_count": 61,
   "id": "duplicate-antigua",
   "metadata": {},
   "outputs": [],
   "source": [
    "kf = KFold(shuffle=True, random_state=10)"
   ]
  },
  {
   "cell_type": "code",
   "execution_count": 62,
   "id": "extended-spelling",
   "metadata": {},
   "outputs": [
    {
     "name": "stdout",
     "output_type": "stream",
     "text": [
      "Alpha óptimo: 0.01\n",
      "R2 Lasso de entrenamiento: 0.502\n"
     ]
    }
   ],
   "source": [
    "model_skl_LassoCV = linear_model.LassoCV(alphas=np.linspace(0.0001,0.01, 100), cv=kf, normalize=True)\n",
    "model_skl_LassoCV.fit(X_train, y_train)\n",
    "print(\"Alpha óptimo:\", model_skl_LassoCV.alpha_)\n",
    "print(\"R2 Lasso de entrenamiento:\",model_skl_LassoCV.score(X_train, y_train).round(3))\n"
   ]
  },
  {
   "cell_type": "code",
   "execution_count": 63,
   "id": "secondary-router",
   "metadata": {},
   "outputs": [
    {
     "name": "stdout",
     "output_type": "stream",
     "text": [
      "Variables igualadas a 0 por Lasso: 2\n"
     ]
    }
   ],
   "source": [
    "betas = pd.DataFrame(data= model_skl_LassoCV.coef_ , index=X_train.columns, columns=['Betas'])\n",
    "\n",
    "betas_0_mask = betas.Betas == 0\n",
    "print(\"Variables igualadas a 0 por Lasso:\", betas_0_mask.sum())"
   ]
  },
  {
   "cell_type": "code",
   "execution_count": 64,
   "id": "baking-council",
   "metadata": {},
   "outputs": [
    {
     "name": "stdout",
     "output_type": "stream",
     "text": [
      "(6104, 71)\n",
      "(6104,)\n",
      "(3007, 71)\n",
      "(3007,)\n"
     ]
    }
   ],
   "source": [
    "print(X_train.shape)\n",
    "print(y_train.shape)\n",
    "print(X_test.shape)\n",
    "print(y_test.shape)"
   ]
  },
  {
   "cell_type": "code",
   "execution_count": 65,
   "id": "seasonal-radar",
   "metadata": {},
   "outputs": [
    {
     "name": "stdout",
     "output_type": "stream",
     "text": [
      "Alpha óptimo: 0.028\n",
      "R2 Lasso de entrenamiento: 0.501\n"
     ]
    }
   ],
   "source": [
    "model_skl_LassoCV = linear_model.LassoCV(alphas=np.linspace(0.001,0.1, 100), cv=kf, normalize=True)\n",
    "model_skl_LassoCV.fit(X_train, y_train)\n",
    "print(\"Alpha óptimo:\", model_skl_LassoCV.alpha_)\n",
    "print(\"R2 Lasso de entrenamiento:\",model_skl_LassoCV.score(X_train, y_train).round(3))"
   ]
  },
  {
   "cell_type": "code",
   "execution_count": 66,
   "id": "suited-jerusalem",
   "metadata": {},
   "outputs": [
    {
     "name": "stdout",
     "output_type": "stream",
     "text": [
      "Variables igualadas a 0 por Lasso: 4\n"
     ]
    }
   ],
   "source": [
    "betas = pd.DataFrame(data= model_skl_LassoCV.coef_ , index=X_train.columns, columns=['Betas'])\n",
    "\n",
    "betas_0_mask = betas.Betas == 0\n",
    "print(\"Variables igualadas a 0 por Lasso:\", betas_0_mask.sum())"
   ]
  },
  {
   "cell_type": "code",
   "execution_count": 67,
   "id": "united-equity",
   "metadata": {},
   "outputs": [
    {
     "data": {
      "text/plain": [
       "2.0           True\n",
       "8.0           True\n",
       "Almagro       True\n",
       "Villa Luro    True\n",
       "Name: Betas, dtype: bool"
      ]
     },
     "execution_count": 67,
     "metadata": {},
     "output_type": "execute_result"
    }
   ],
   "source": [
    "betas_0_mask[betas_0_mask == True] # Borrarlas"
   ]
  },
  {
   "cell_type": "markdown",
   "id": "employed-consensus",
   "metadata": {},
   "source": [
    "### Ridge de CABA"
   ]
  },
  {
   "cell_type": "code",
   "execution_count": 68,
   "id": "annoying-choice",
   "metadata": {},
   "outputs": [
    {
     "name": "stdout",
     "output_type": "stream",
     "text": [
      "Alpha óptimo: 0.003\n",
      "R2 Ridge de entrenamiento: 0.502\n"
     ]
    }
   ],
   "source": [
    "model_skl_RidgeCV = linear_model.RidgeCV(alphas=np.linspace(0.001,0.1, 100), cv=kf, normalize=True)\n",
    "model_skl_RidgeCV.fit(X_train, y_train)\n",
    "print(\"Alpha óptimo:\", model_skl_RidgeCV.alpha_)\n",
    "print(\"R2 Ridge de entrenamiento:\",model_skl_RidgeCV.score(X_train, y_train).round(3))"
   ]
  },
  {
   "cell_type": "markdown",
   "id": "proved-bahamas",
   "metadata": {},
   "source": [
    "### Hago las predicciones..."
   ]
  },
  {
   "cell_type": "code",
   "execution_count": 69,
   "id": "regulation-manitoba",
   "metadata": {},
   "outputs": [
    {
     "name": "stdout",
     "output_type": "stream",
     "text": [
      "R2 Statmodels OLS: 0.509\n"
     ]
    }
   ],
   "source": [
    "prediction_sm = baseline.predict(sm.add_constant(X_test))\n",
    "print ('R2 Statmodels OLS:', r2_score(y_test, prediction_sm).round(3))"
   ]
  },
  {
   "cell_type": "code",
   "execution_count": 70,
   "id": "corporate-level",
   "metadata": {},
   "outputs": [
    {
     "data": {
      "text/plain": [
       "75794    2702.410983\n",
       "53138    2291.190956\n",
       "25673    1591.827800\n",
       "13287    3172.932148\n",
       "21474    1745.951249\n",
       "            ...     \n",
       "7306     1718.398594\n",
       "37957    2127.157550\n",
       "33243    3229.815485\n",
       "45410    3287.309795\n",
       "34328    2044.642766\n",
       "Length: 3007, dtype: float64"
      ]
     },
     "execution_count": 70,
     "metadata": {},
     "output_type": "execute_result"
    }
   ],
   "source": [
    "predicciones = prediction_sm\n",
    "predicciones"
   ]
  },
  {
   "cell_type": "code",
   "execution_count": 71,
   "id": "stock-reducing",
   "metadata": {},
   "outputs": [
    {
     "data": {
      "text/html": [
       "<div>\n",
       "<style scoped>\n",
       "    .dataframe tbody tr th:only-of-type {\n",
       "        vertical-align: middle;\n",
       "    }\n",
       "\n",
       "    .dataframe tbody tr th {\n",
       "        vertical-align: top;\n",
       "    }\n",
       "\n",
       "    .dataframe thead th {\n",
       "        text-align: right;\n",
       "    }\n",
       "</style>\n",
       "<table border=\"1\" class=\"dataframe\">\n",
       "  <thead>\n",
       "    <tr style=\"text-align: right;\">\n",
       "      <th></th>\n",
       "      <th>Tipo_Propiedad</th>\n",
       "      <th>Región</th>\n",
       "      <th>Precio</th>\n",
       "      <th>surface_total_in_m2</th>\n",
       "      <th>surface_covered_in_m2</th>\n",
       "      <th>Precio_por_m2</th>\n",
       "      <th>Garage</th>\n",
       "      <th>Estado</th>\n",
       "      <th>Pileta</th>\n",
       "      <th>Balcon</th>\n",
       "      <th>...</th>\n",
       "      <th>Vélez Sársfield</th>\n",
       "      <th>2.0</th>\n",
       "      <th>3.0</th>\n",
       "      <th>4.0</th>\n",
       "      <th>5.0</th>\n",
       "      <th>6.0</th>\n",
       "      <th>7.0</th>\n",
       "      <th>8.0</th>\n",
       "      <th>9.0</th>\n",
       "      <th>10.0</th>\n",
       "    </tr>\n",
       "  </thead>\n",
       "  <tbody>\n",
       "    <tr>\n",
       "      <th>0</th>\n",
       "      <td>PH</td>\n",
       "      <td>Capital Federal</td>\n",
       "      <td>239000.0</td>\n",
       "      <td>140.0</td>\n",
       "      <td>98.0</td>\n",
       "      <td>2438.775510</td>\n",
       "      <td>0</td>\n",
       "      <td>0</td>\n",
       "      <td>0</td>\n",
       "      <td>0</td>\n",
       "      <td>...</td>\n",
       "      <td>0</td>\n",
       "      <td>0</td>\n",
       "      <td>0</td>\n",
       "      <td>1</td>\n",
       "      <td>0</td>\n",
       "      <td>0</td>\n",
       "      <td>0</td>\n",
       "      <td>0</td>\n",
       "      <td>0</td>\n",
       "      <td>0</td>\n",
       "    </tr>\n",
       "    <tr>\n",
       "      <th>1</th>\n",
       "      <td>apartment</td>\n",
       "      <td>Capital Federal</td>\n",
       "      <td>110000.0</td>\n",
       "      <td>50.0</td>\n",
       "      <td>50.0</td>\n",
       "      <td>2200.000000</td>\n",
       "      <td>0</td>\n",
       "      <td>0</td>\n",
       "      <td>0</td>\n",
       "      <td>1</td>\n",
       "      <td>...</td>\n",
       "      <td>0</td>\n",
       "      <td>0</td>\n",
       "      <td>1</td>\n",
       "      <td>0</td>\n",
       "      <td>0</td>\n",
       "      <td>0</td>\n",
       "      <td>0</td>\n",
       "      <td>0</td>\n",
       "      <td>0</td>\n",
       "      <td>0</td>\n",
       "    </tr>\n",
       "    <tr>\n",
       "      <th>2</th>\n",
       "      <td>apartment</td>\n",
       "      <td>Capital Federal</td>\n",
       "      <td>173000.0</td>\n",
       "      <td>50.0</td>\n",
       "      <td>50.0</td>\n",
       "      <td>3460.000000</td>\n",
       "      <td>0</td>\n",
       "      <td>0</td>\n",
       "      <td>0</td>\n",
       "      <td>0</td>\n",
       "      <td>...</td>\n",
       "      <td>0</td>\n",
       "      <td>1</td>\n",
       "      <td>0</td>\n",
       "      <td>0</td>\n",
       "      <td>0</td>\n",
       "      <td>0</td>\n",
       "      <td>0</td>\n",
       "      <td>0</td>\n",
       "      <td>0</td>\n",
       "      <td>0</td>\n",
       "    </tr>\n",
       "    <tr>\n",
       "      <th>3</th>\n",
       "      <td>apartment</td>\n",
       "      <td>Capital Federal</td>\n",
       "      <td>178000.0</td>\n",
       "      <td>55.0</td>\n",
       "      <td>55.0</td>\n",
       "      <td>3236.363636</td>\n",
       "      <td>1</td>\n",
       "      <td>0</td>\n",
       "      <td>0</td>\n",
       "      <td>1</td>\n",
       "      <td>...</td>\n",
       "      <td>0</td>\n",
       "      <td>0</td>\n",
       "      <td>1</td>\n",
       "      <td>0</td>\n",
       "      <td>0</td>\n",
       "      <td>0</td>\n",
       "      <td>0</td>\n",
       "      <td>0</td>\n",
       "      <td>0</td>\n",
       "      <td>0</td>\n",
       "    </tr>\n",
       "    <tr>\n",
       "      <th>4</th>\n",
       "      <td>apartment</td>\n",
       "      <td>Capital Federal</td>\n",
       "      <td>129000.0</td>\n",
       "      <td>80.0</td>\n",
       "      <td>80.0</td>\n",
       "      <td>1612.500000</td>\n",
       "      <td>0</td>\n",
       "      <td>0</td>\n",
       "      <td>0</td>\n",
       "      <td>0</td>\n",
       "      <td>...</td>\n",
       "      <td>0</td>\n",
       "      <td>0</td>\n",
       "      <td>0</td>\n",
       "      <td>1</td>\n",
       "      <td>0</td>\n",
       "      <td>0</td>\n",
       "      <td>0</td>\n",
       "      <td>0</td>\n",
       "      <td>0</td>\n",
       "      <td>0</td>\n",
       "    </tr>\n",
       "  </tbody>\n",
       "</table>\n",
       "<p>5 rows × 78 columns</p>\n",
       "</div>"
      ],
      "text/plain": [
       "  Tipo_Propiedad           Región    Precio  surface_total_in_m2  \\\n",
       "0             PH  Capital Federal  239000.0                140.0   \n",
       "1      apartment  Capital Federal  110000.0                 50.0   \n",
       "2      apartment  Capital Federal  173000.0                 50.0   \n",
       "3      apartment  Capital Federal  178000.0                 55.0   \n",
       "4      apartment  Capital Federal  129000.0                 80.0   \n",
       "\n",
       "   surface_covered_in_m2  Precio_por_m2  Garage  Estado  Pileta  Balcon  ...  \\\n",
       "0                   98.0    2438.775510       0       0       0       0  ...   \n",
       "1                   50.0    2200.000000       0       0       0       1  ...   \n",
       "2                   50.0    3460.000000       0       0       0       0  ...   \n",
       "3                   55.0    3236.363636       1       0       0       1  ...   \n",
       "4                   80.0    1612.500000       0       0       0       0  ...   \n",
       "\n",
       "   Vélez Sársfield  2.0  3.0  4.0  5.0  6.0  7.0 8.0  9.0  10.0  \n",
       "0                0    0    0    1    0    0    0   0    0     0  \n",
       "1                0    0    1    0    0    0    0   0    0     0  \n",
       "2                0    1    0    0    0    0    0   0    0     0  \n",
       "3                0    0    1    0    0    0    0   0    0     0  \n",
       "4                0    0    0    1    0    0    0   0    0     0  \n",
       "\n",
       "[5 rows x 78 columns]"
      ]
     },
     "execution_count": 71,
     "metadata": {},
     "output_type": "execute_result"
    }
   ],
   "source": [
    "data2.reset_index(inplace= True)\n",
    "data2.drop(columns= ['index'], inplace = True)\n",
    "data2.head(5)"
   ]
  },
  {
   "cell_type": "code",
   "execution_count": 72,
   "id": "underlying-significance",
   "metadata": {},
   "outputs": [],
   "source": [
    "data_sample = data2"
   ]
  },
  {
   "cell_type": "code",
   "execution_count": 73,
   "id": "gentle-sharp",
   "metadata": {},
   "outputs": [],
   "source": [
    "data_sample['prediccion'] = predicciones\n",
    "#data_sample.info()"
   ]
  },
  {
   "cell_type": "code",
   "execution_count": 74,
   "id": "outdoor-begin",
   "metadata": {},
   "outputs": [],
   "source": [
    "data_sample.drop(columns= ['surface_total_in_m2', 'surface_covered_in_m2', 'Garage', 'Estado', 'Pileta', 'Balcon', 'Gimnasio', 'Quincho', 'Parrilla', 'Patio', \n",
    "                    'Lavadero', 'Tipo_Propiedad_apartment', 'Tipo_Propiedad_house', 'Tipo_Propiedad_store', \"dist_subte\",\n",
    "                    2.0, 3.0, 4.0, 5.0, 6.0, 7.0, 8.0, 9.0, 10.0, 'Caballito', 'Palermo', 'Belgrano', 'Recoleta', 'Flores', 'Balvanera',\n",
    "                     'Almagro', 'Villa Crespo','Villa Urquiza','San Telmo','Floresta', 'Nuñez', 'Villa Luro', 'San Cristóbal',\n",
    "                     'Saavedra','Barracas', 'Villa Devoto','San Nicolás','Monserrat','Villa del Parque','Liniers','Mataderos',\n",
    "                     'Colegiales','Boedo','Parque Patricios','Parque Chacabuco','Coghlan','Chacarita','Paternal','Villa Lugano',\n",
    "                     'Constitución','Villa Pueyrredón','Boca','Retiro', 'Parque Avellaneda','Monte Castro' ,'Villa Ortuzar',\n",
    "                     'Villa Gral. Mitre','Versalles','Villa Santa Rita','Villa Real','Vélez Sársfield','Nueva Pompeya',\n",
    "                     'Parque Chas','Puerto Madero','Villa Riachuelo','Villa Soldati' ], inplace = True)"
   ]
  },
  {
   "cell_type": "code",
   "execution_count": 75,
   "id": "stone-lawrence",
   "metadata": {},
   "outputs": [
    {
     "data": {
      "text/html": [
       "<div>\n",
       "<style scoped>\n",
       "    .dataframe tbody tr th:only-of-type {\n",
       "        vertical-align: middle;\n",
       "    }\n",
       "\n",
       "    .dataframe tbody tr th {\n",
       "        vertical-align: top;\n",
       "    }\n",
       "\n",
       "    .dataframe thead th {\n",
       "        text-align: right;\n",
       "    }\n",
       "</style>\n",
       "<table border=\"1\" class=\"dataframe\">\n",
       "  <thead>\n",
       "    <tr style=\"text-align: right;\">\n",
       "      <th></th>\n",
       "      <th>Tipo_Propiedad</th>\n",
       "      <th>Región</th>\n",
       "      <th>Precio</th>\n",
       "      <th>Precio_por_m2</th>\n",
       "      <th>Amenities</th>\n",
       "      <th>Ambientes</th>\n",
       "      <th>Barrio</th>\n",
       "      <th>prediccion</th>\n",
       "    </tr>\n",
       "  </thead>\n",
       "  <tbody>\n",
       "    <tr>\n",
       "      <th>5342</th>\n",
       "      <td>apartment</td>\n",
       "      <td>Capital Federal</td>\n",
       "      <td>85000.0</td>\n",
       "      <td>2297.297297</td>\n",
       "      <td>3</td>\n",
       "      <td>2.0</td>\n",
       "      <td>Flores</td>\n",
       "      <td>2679.012122</td>\n",
       "    </tr>\n",
       "    <tr>\n",
       "      <th>4243</th>\n",
       "      <td>apartment</td>\n",
       "      <td>Capital Federal</td>\n",
       "      <td>125000.0</td>\n",
       "      <td>2840.909091</td>\n",
       "      <td>0</td>\n",
       "      <td>2.0</td>\n",
       "      <td>Almagro</td>\n",
       "      <td>2246.738501</td>\n",
       "    </tr>\n",
       "    <tr>\n",
       "      <th>8289</th>\n",
       "      <td>house</td>\n",
       "      <td>Capital Federal</td>\n",
       "      <td>270000.0</td>\n",
       "      <td>1227.272727</td>\n",
       "      <td>0</td>\n",
       "      <td>6.0</td>\n",
       "      <td>Mataderos</td>\n",
       "      <td>2006.746392</td>\n",
       "    </tr>\n",
       "    <tr>\n",
       "      <th>6508</th>\n",
       "      <td>apartment</td>\n",
       "      <td>Capital Federal</td>\n",
       "      <td>95000.0</td>\n",
       "      <td>2065.217391</td>\n",
       "      <td>0</td>\n",
       "      <td>2.0</td>\n",
       "      <td>Caballito</td>\n",
       "      <td>2562.584460</td>\n",
       "    </tr>\n",
       "    <tr>\n",
       "      <th>3350</th>\n",
       "      <td>apartment</td>\n",
       "      <td>Capital Federal</td>\n",
       "      <td>66000.0</td>\n",
       "      <td>2357.142857</td>\n",
       "      <td>0</td>\n",
       "      <td>2.0</td>\n",
       "      <td>San Nicolás</td>\n",
       "      <td>1825.905554</td>\n",
       "    </tr>\n",
       "    <tr>\n",
       "      <th>...</th>\n",
       "      <td>...</td>\n",
       "      <td>...</td>\n",
       "      <td>...</td>\n",
       "      <td>...</td>\n",
       "      <td>...</td>\n",
       "      <td>...</td>\n",
       "      <td>...</td>\n",
       "      <td>...</td>\n",
       "    </tr>\n",
       "    <tr>\n",
       "      <th>4632</th>\n",
       "      <td>house</td>\n",
       "      <td>Capital Federal</td>\n",
       "      <td>280000.0</td>\n",
       "      <td>1450.777202</td>\n",
       "      <td>2</td>\n",
       "      <td>4.0</td>\n",
       "      <td>Barracas</td>\n",
       "      <td>2625.223961</td>\n",
       "    </tr>\n",
       "    <tr>\n",
       "      <th>5317</th>\n",
       "      <td>apartment</td>\n",
       "      <td>Capital Federal</td>\n",
       "      <td>110000.0</td>\n",
       "      <td>2037.037037</td>\n",
       "      <td>1</td>\n",
       "      <td>3.0</td>\n",
       "      <td>Caballito</td>\n",
       "      <td>2363.033258</td>\n",
       "    </tr>\n",
       "    <tr>\n",
       "      <th>8008</th>\n",
       "      <td>apartment</td>\n",
       "      <td>Capital Federal</td>\n",
       "      <td>188000.0</td>\n",
       "      <td>2320.987654</td>\n",
       "      <td>1</td>\n",
       "      <td>4.0</td>\n",
       "      <td>Caballito</td>\n",
       "      <td>2891.926112</td>\n",
       "    </tr>\n",
       "    <tr>\n",
       "      <th>5710</th>\n",
       "      <td>apartment</td>\n",
       "      <td>Capital Federal</td>\n",
       "      <td>160000.0</td>\n",
       "      <td>2000.000000</td>\n",
       "      <td>2</td>\n",
       "      <td>2.0</td>\n",
       "      <td>Caballito</td>\n",
       "      <td>2821.974902</td>\n",
       "    </tr>\n",
       "    <tr>\n",
       "      <th>235</th>\n",
       "      <td>apartment</td>\n",
       "      <td>Capital Federal</td>\n",
       "      <td>70000.0</td>\n",
       "      <td>1794.871795</td>\n",
       "      <td>0</td>\n",
       "      <td>1.0</td>\n",
       "      <td>Boca</td>\n",
       "      <td>2242.336152</td>\n",
       "    </tr>\n",
       "  </tbody>\n",
       "</table>\n",
       "<p>100 rows × 8 columns</p>\n",
       "</div>"
      ],
      "text/plain": [
       "     Tipo_Propiedad           Región    Precio  Precio_por_m2  Amenities  \\\n",
       "5342      apartment  Capital Federal   85000.0    2297.297297          3   \n",
       "4243      apartment  Capital Federal  125000.0    2840.909091          0   \n",
       "8289          house  Capital Federal  270000.0    1227.272727          0   \n",
       "6508      apartment  Capital Federal   95000.0    2065.217391          0   \n",
       "3350      apartment  Capital Federal   66000.0    2357.142857          0   \n",
       "...             ...              ...       ...            ...        ...   \n",
       "4632          house  Capital Federal  280000.0    1450.777202          2   \n",
       "5317      apartment  Capital Federal  110000.0    2037.037037          1   \n",
       "8008      apartment  Capital Federal  188000.0    2320.987654          1   \n",
       "5710      apartment  Capital Federal  160000.0    2000.000000          2   \n",
       "235       apartment  Capital Federal   70000.0    1794.871795          0   \n",
       "\n",
       "      Ambientes       Barrio   prediccion  \n",
       "5342        2.0       Flores  2679.012122  \n",
       "4243        2.0      Almagro  2246.738501  \n",
       "8289        6.0    Mataderos  2006.746392  \n",
       "6508        2.0    Caballito  2562.584460  \n",
       "3350        2.0  San Nicolás  1825.905554  \n",
       "...         ...          ...          ...  \n",
       "4632        4.0     Barracas  2625.223961  \n",
       "5317        3.0    Caballito  2363.033258  \n",
       "8008        4.0    Caballito  2891.926112  \n",
       "5710        2.0    Caballito  2821.974902  \n",
       "235         1.0         Boca  2242.336152  \n",
       "\n",
       "[100 rows x 8 columns]"
      ]
     },
     "execution_count": 75,
     "metadata": {},
     "output_type": "execute_result"
    }
   ],
   "source": [
    "predicts_not_null = data_sample[data_sample.prediccion.notnull()]\n",
    "data_predict = predicts_not_null.sample(100, random_state=1)\n",
    "data_predict"
   ]
  },
  {
   "cell_type": "code",
   "execution_count": 76,
   "id": "czech-shuttle",
   "metadata": {},
   "outputs": [
    {
     "data": {
      "text/html": [
       "<div>\n",
       "<style scoped>\n",
       "    .dataframe tbody tr th:only-of-type {\n",
       "        vertical-align: middle;\n",
       "    }\n",
       "\n",
       "    .dataframe tbody tr th {\n",
       "        vertical-align: top;\n",
       "    }\n",
       "\n",
       "    .dataframe thead th {\n",
       "        text-align: right;\n",
       "    }\n",
       "</style>\n",
       "<table border=\"1\" class=\"dataframe\">\n",
       "  <thead>\n",
       "    <tr style=\"text-align: right;\">\n",
       "      <th></th>\n",
       "      <th>Tipo_Propiedad</th>\n",
       "      <th>Región</th>\n",
       "      <th>Precio</th>\n",
       "      <th>Precio_por_m2</th>\n",
       "      <th>Amenities</th>\n",
       "      <th>Ambientes</th>\n",
       "      <th>Barrio</th>\n",
       "      <th>prediccion</th>\n",
       "      <th>diferencia</th>\n",
       "    </tr>\n",
       "  </thead>\n",
       "  <tbody>\n",
       "    <tr>\n",
       "      <th>5342</th>\n",
       "      <td>apartment</td>\n",
       "      <td>Capital Federal</td>\n",
       "      <td>85000.0</td>\n",
       "      <td>2297.297297</td>\n",
       "      <td>3</td>\n",
       "      <td>2.0</td>\n",
       "      <td>Flores</td>\n",
       "      <td>2679.012122</td>\n",
       "      <td>381.714825</td>\n",
       "    </tr>\n",
       "    <tr>\n",
       "      <th>4243</th>\n",
       "      <td>apartment</td>\n",
       "      <td>Capital Federal</td>\n",
       "      <td>125000.0</td>\n",
       "      <td>2840.909091</td>\n",
       "      <td>0</td>\n",
       "      <td>2.0</td>\n",
       "      <td>Almagro</td>\n",
       "      <td>2246.738501</td>\n",
       "      <td>-594.170590</td>\n",
       "    </tr>\n",
       "    <tr>\n",
       "      <th>8289</th>\n",
       "      <td>house</td>\n",
       "      <td>Capital Federal</td>\n",
       "      <td>270000.0</td>\n",
       "      <td>1227.272727</td>\n",
       "      <td>0</td>\n",
       "      <td>6.0</td>\n",
       "      <td>Mataderos</td>\n",
       "      <td>2006.746392</td>\n",
       "      <td>779.473665</td>\n",
       "    </tr>\n",
       "    <tr>\n",
       "      <th>6508</th>\n",
       "      <td>apartment</td>\n",
       "      <td>Capital Federal</td>\n",
       "      <td>95000.0</td>\n",
       "      <td>2065.217391</td>\n",
       "      <td>0</td>\n",
       "      <td>2.0</td>\n",
       "      <td>Caballito</td>\n",
       "      <td>2562.584460</td>\n",
       "      <td>497.367068</td>\n",
       "    </tr>\n",
       "    <tr>\n",
       "      <th>3350</th>\n",
       "      <td>apartment</td>\n",
       "      <td>Capital Federal</td>\n",
       "      <td>66000.0</td>\n",
       "      <td>2357.142857</td>\n",
       "      <td>0</td>\n",
       "      <td>2.0</td>\n",
       "      <td>San Nicolás</td>\n",
       "      <td>1825.905554</td>\n",
       "      <td>-531.237303</td>\n",
       "    </tr>\n",
       "    <tr>\n",
       "      <th>...</th>\n",
       "      <td>...</td>\n",
       "      <td>...</td>\n",
       "      <td>...</td>\n",
       "      <td>...</td>\n",
       "      <td>...</td>\n",
       "      <td>...</td>\n",
       "      <td>...</td>\n",
       "      <td>...</td>\n",
       "      <td>...</td>\n",
       "    </tr>\n",
       "    <tr>\n",
       "      <th>4632</th>\n",
       "      <td>house</td>\n",
       "      <td>Capital Federal</td>\n",
       "      <td>280000.0</td>\n",
       "      <td>1450.777202</td>\n",
       "      <td>2</td>\n",
       "      <td>4.0</td>\n",
       "      <td>Barracas</td>\n",
       "      <td>2625.223961</td>\n",
       "      <td>1174.446759</td>\n",
       "    </tr>\n",
       "    <tr>\n",
       "      <th>5317</th>\n",
       "      <td>apartment</td>\n",
       "      <td>Capital Federal</td>\n",
       "      <td>110000.0</td>\n",
       "      <td>2037.037037</td>\n",
       "      <td>1</td>\n",
       "      <td>3.0</td>\n",
       "      <td>Caballito</td>\n",
       "      <td>2363.033258</td>\n",
       "      <td>325.996221</td>\n",
       "    </tr>\n",
       "    <tr>\n",
       "      <th>8008</th>\n",
       "      <td>apartment</td>\n",
       "      <td>Capital Federal</td>\n",
       "      <td>188000.0</td>\n",
       "      <td>2320.987654</td>\n",
       "      <td>1</td>\n",
       "      <td>4.0</td>\n",
       "      <td>Caballito</td>\n",
       "      <td>2891.926112</td>\n",
       "      <td>570.938458</td>\n",
       "    </tr>\n",
       "    <tr>\n",
       "      <th>5710</th>\n",
       "      <td>apartment</td>\n",
       "      <td>Capital Federal</td>\n",
       "      <td>160000.0</td>\n",
       "      <td>2000.000000</td>\n",
       "      <td>2</td>\n",
       "      <td>2.0</td>\n",
       "      <td>Caballito</td>\n",
       "      <td>2821.974902</td>\n",
       "      <td>821.974902</td>\n",
       "    </tr>\n",
       "    <tr>\n",
       "      <th>235</th>\n",
       "      <td>apartment</td>\n",
       "      <td>Capital Federal</td>\n",
       "      <td>70000.0</td>\n",
       "      <td>1794.871795</td>\n",
       "      <td>0</td>\n",
       "      <td>1.0</td>\n",
       "      <td>Boca</td>\n",
       "      <td>2242.336152</td>\n",
       "      <td>447.464357</td>\n",
       "    </tr>\n",
       "  </tbody>\n",
       "</table>\n",
       "<p>100 rows × 9 columns</p>\n",
       "</div>"
      ],
      "text/plain": [
       "     Tipo_Propiedad           Región    Precio  Precio_por_m2  Amenities  \\\n",
       "5342      apartment  Capital Federal   85000.0    2297.297297          3   \n",
       "4243      apartment  Capital Federal  125000.0    2840.909091          0   \n",
       "8289          house  Capital Federal  270000.0    1227.272727          0   \n",
       "6508      apartment  Capital Federal   95000.0    2065.217391          0   \n",
       "3350      apartment  Capital Federal   66000.0    2357.142857          0   \n",
       "...             ...              ...       ...            ...        ...   \n",
       "4632          house  Capital Federal  280000.0    1450.777202          2   \n",
       "5317      apartment  Capital Federal  110000.0    2037.037037          1   \n",
       "8008      apartment  Capital Federal  188000.0    2320.987654          1   \n",
       "5710      apartment  Capital Federal  160000.0    2000.000000          2   \n",
       "235       apartment  Capital Federal   70000.0    1794.871795          0   \n",
       "\n",
       "      Ambientes       Barrio   prediccion   diferencia  \n",
       "5342        2.0       Flores  2679.012122   381.714825  \n",
       "4243        2.0      Almagro  2246.738501  -594.170590  \n",
       "8289        6.0    Mataderos  2006.746392   779.473665  \n",
       "6508        2.0    Caballito  2562.584460   497.367068  \n",
       "3350        2.0  San Nicolás  1825.905554  -531.237303  \n",
       "...         ...          ...          ...          ...  \n",
       "4632        4.0     Barracas  2625.223961  1174.446759  \n",
       "5317        3.0    Caballito  2363.033258   325.996221  \n",
       "8008        4.0    Caballito  2891.926112   570.938458  \n",
       "5710        2.0    Caballito  2821.974902   821.974902  \n",
       "235         1.0         Boca  2242.336152   447.464357  \n",
       "\n",
       "[100 rows x 9 columns]"
      ]
     },
     "execution_count": 76,
     "metadata": {},
     "output_type": "execute_result"
    }
   ],
   "source": [
    "#Agregamos columna con la diferencia entre el precio por metro cuadrado del valor real y el predicho\n",
    "data_predict['diferencia'] = data_predict['prediccion'] - data_predict['Precio_por_m2']\n",
    "data_predict"
   ]
  },
  {
   "cell_type": "code",
   "execution_count": 77,
   "id": "wrong-beginning",
   "metadata": {},
   "outputs": [
    {
     "data": {
      "text/plain": [
       "Text(0.5, 0, 'Precios por m2 reales')"
      ]
     },
     "execution_count": 77,
     "metadata": {},
     "output_type": "execute_result"
    },
    {
     "data": {
      "image/png": "[encoded data removed]",
      "text/plain": [
       "<Figure size 576x576 with 1 Axes>"
      ]
     },
     "metadata": {
      "needs_background": "light"
     },
     "output_type": "display_data"
    }
   ],
   "source": [
    "#Graficamos los valores reales y predichos de precio por metros cuadrados de las muestra de 100 propiedades para detectar oportunidades\n",
    "import warnings\n",
    "warnings.filterwarnings(\"ignore\")\n",
    "\n",
    "plt.figure(figsize=(8,8))\n",
    "sns.scatterplot(data=data_predict, x= 'Precio_por_m2', y= 'prediccion', hue= 'diferencia', palette= 'Spectral', size= 'Precio', sizes=(20, 400))\n",
    "sns.lineplot([1000,3500],[1000,3500],color='black')\n",
    "plt.title(\"Evaluación de predicciones de la muestra de 100\")\n",
    "plt.ylabel(\"Precios por m2 predichos\")\n",
    "plt.xlabel(\"Precios por m2 reales\")"
   ]
  },
  {
   "cell_type": "code",
   "execution_count": 78,
   "id": "floral-masters",
   "metadata": {},
   "outputs": [
    {
     "name": "stdout",
     "output_type": "stream",
     "text": [
      "Hay 59 subvaluados y  41 sobrevaluados en la muestra\n"
     ]
    }
   ],
   "source": [
    "#Detectamos cuantos valores sobrevaluados y subvaluados hay en la muestra\n",
    "subvaluados = data_predict['diferencia'] > 0\n",
    "sobrevaluados = data_predict['diferencia'] < 0\n",
    "print(\"Hay\", subvaluados.sum(),\"subvaluados y \",sobrevaluados.sum(),\"sobrevaluados en la muestra\")"
   ]
  },
  {
   "cell_type": "code",
   "execution_count": 79,
   "id": "solar-meditation",
   "metadata": {},
   "outputs": [
    {
     "data": {
      "text/html": [
       "<div>\n",
       "<style scoped>\n",
       "    .dataframe tbody tr th:only-of-type {\n",
       "        vertical-align: middle;\n",
       "    }\n",
       "\n",
       "    .dataframe tbody tr th {\n",
       "        vertical-align: top;\n",
       "    }\n",
       "\n",
       "    .dataframe thead th {\n",
       "        text-align: right;\n",
       "    }\n",
       "</style>\n",
       "<table border=\"1\" class=\"dataframe\">\n",
       "  <thead>\n",
       "    <tr style=\"text-align: right;\">\n",
       "      <th></th>\n",
       "      <th>Tipo_Propiedad</th>\n",
       "      <th>Región</th>\n",
       "      <th>Precio</th>\n",
       "      <th>Precio_por_m2</th>\n",
       "      <th>Amenities</th>\n",
       "      <th>Ambientes</th>\n",
       "      <th>Barrio</th>\n",
       "      <th>prediccion</th>\n",
       "      <th>diferencia</th>\n",
       "    </tr>\n",
       "  </thead>\n",
       "  <tbody>\n",
       "    <tr>\n",
       "      <th>5611</th>\n",
       "      <td>PH</td>\n",
       "      <td>Capital Federal</td>\n",
       "      <td>63000.0</td>\n",
       "      <td>1575.000000</td>\n",
       "      <td>0</td>\n",
       "      <td>2.0</td>\n",
       "      <td>Constitución</td>\n",
       "      <td>3142.376442</td>\n",
       "      <td>1567.376442</td>\n",
       "    </tr>\n",
       "    <tr>\n",
       "      <th>8419</th>\n",
       "      <td>apartment</td>\n",
       "      <td>Capital Federal</td>\n",
       "      <td>115000.0</td>\n",
       "      <td>1691.176471</td>\n",
       "      <td>0</td>\n",
       "      <td>3.0</td>\n",
       "      <td>Balvanera</td>\n",
       "      <td>3169.738177</td>\n",
       "      <td>1478.561706</td>\n",
       "    </tr>\n",
       "    <tr>\n",
       "      <th>1731</th>\n",
       "      <td>apartment</td>\n",
       "      <td>Capital Federal</td>\n",
       "      <td>98000.0</td>\n",
       "      <td>1531.250000</td>\n",
       "      <td>0</td>\n",
       "      <td>3.0</td>\n",
       "      <td>Liniers</td>\n",
       "      <td>2962.450982</td>\n",
       "      <td>1431.200982</td>\n",
       "    </tr>\n",
       "    <tr>\n",
       "      <th>9018</th>\n",
       "      <td>house</td>\n",
       "      <td>Capital Federal</td>\n",
       "      <td>340000.0</td>\n",
       "      <td>1118.421053</td>\n",
       "      <td>0</td>\n",
       "      <td>6.0</td>\n",
       "      <td>Villa Santa Rita</td>\n",
       "      <td>2539.579594</td>\n",
       "      <td>1421.158542</td>\n",
       "    </tr>\n",
       "    <tr>\n",
       "      <th>631</th>\n",
       "      <td>PH</td>\n",
       "      <td>Capital Federal</td>\n",
       "      <td>86000.0</td>\n",
       "      <td>1146.666667</td>\n",
       "      <td>1</td>\n",
       "      <td>4.0</td>\n",
       "      <td>Flores</td>\n",
       "      <td>2559.016445</td>\n",
       "      <td>1412.349778</td>\n",
       "    </tr>\n",
       "  </tbody>\n",
       "</table>\n",
       "</div>"
      ],
      "text/plain": [
       "     Tipo_Propiedad           Región    Precio  Precio_por_m2  Amenities  \\\n",
       "5611             PH  Capital Federal   63000.0    1575.000000          0   \n",
       "8419      apartment  Capital Federal  115000.0    1691.176471          0   \n",
       "1731      apartment  Capital Federal   98000.0    1531.250000          0   \n",
       "9018          house  Capital Federal  340000.0    1118.421053          0   \n",
       "631              PH  Capital Federal   86000.0    1146.666667          1   \n",
       "\n",
       "      Ambientes            Barrio   prediccion   diferencia  \n",
       "5611        2.0      Constitución  3142.376442  1567.376442  \n",
       "8419        3.0         Balvanera  3169.738177  1478.561706  \n",
       "1731        3.0           Liniers  2962.450982  1431.200982  \n",
       "9018        6.0  Villa Santa Rita  2539.579594  1421.158542  \n",
       "631         4.0            Flores  2559.016445  1412.349778  "
      ]
     },
     "execution_count": 79,
     "metadata": {},
     "output_type": "execute_result"
    }
   ],
   "source": [
    "#Obtenemos las 5 mejores oportunidades en cuanto a la diferencia del precio por metro cuadrado del valor real y el predicho \n",
    "mejores_oportunidades = data_predict.sort_values('diferencia',ascending=False)\n",
    "mejores_oportunidades.head(5)"
   ]
  },
  {
   "cell_type": "code",
   "execution_count": 80,
   "id": "lovely-ethnic",
   "metadata": {},
   "outputs": [
    {
     "data": {
      "text/plain": [
       "Text(0.5, 0, 'Y_test')"
      ]
     },
     "execution_count": 80,
     "metadata": {},
     "output_type": "execute_result"
    },
    {
     "data": {
      "image/png": "[encoded data removed]",
      "text/plain": [
       "<Figure size 576x576 with 1 Axes>"
      ]
     },
     "metadata": {
      "needs_background": "light"
     },
     "output_type": "display_data"
    }
   ],
   "source": [
    "import warnings\n",
    "warnings.filterwarnings(\"ignore\")\n",
    "\n",
    "plt.figure(figsize=(8,8))\n",
    "sns.scatterplot(y_test,prediction_sm)\n",
    "sns.lineplot([0,3500],[0,3500],color='black')\n",
    "plt.title(\"Evaluación de predicciones\")\n",
    "plt.ylabel(\"Y_pred\")\n",
    "plt.xlabel(\"Y_test\")"
   ]
  },
  {
   "cell_type": "markdown",
   "id": "geographic-morris",
   "metadata": {},
   "source": [
    "### Predicciones con Lasso CV"
   ]
  },
  {
   "cell_type": "code",
   "execution_count": 81,
   "id": "common-lafayette",
   "metadata": {},
   "outputs": [],
   "source": [
    "def train_test_lasso(data2, feature_cols, graph=False):\n",
    "    X = data2[feature_cols]\n",
    "    y = data2.Precio_por_m2\n",
    "    X_train, X_test, y_train, y_test = train_test_split(X, y, shuffle=True)\n",
    "    model = linear_model.LassoCV(alphas=np.linspace(0.01,100, 1000), cv=3, normalize=True)\n",
    "    model.fit(X_train, y_train)\n",
    "    y_pred = model.predict(X_test)\n",
    "    if graph:\n",
    "        plt.plot(y_test,y_test, '-.', c='grey')\n",
    "        plt.scatter(y_pred, y_test, s=30, c='r', marker='+', zorder=10)\n",
    "        plt.xlabel(\"Predicciones usando features\")\n",
    "        plt.ylabel(\"Valores reales precio m2\")\n",
    "        plt.show()\n",
    "    print (\"y_test sample: \", y_test.values[0:100])\n",
    "    print (\"y_pred sample: \", y_pred[0:100].astype(int) )\n",
    "    print ('MAE: ', metrics.mean_absolute_error(y_test, y_pred))\n",
    "    print ('MSE: ', metrics.mean_squared_error(y_test, y_pred))\n",
    "    print ('RMSE:', np.sqrt(metrics.mean_squared_error(y_test, y_pred)))\n",
    "    print ('R2:  ', metrics.r2_score(y_test, y_pred))\n",
    "    \n",
    "    return np.sqrt(metrics.mean_squared_error(y_test, y_pred))\n",
    "    y_pred.to_frame()\n",
    "    y_pred.to_csv('./data/predichos.csv', sep=',', index=False)"
   ]
  },
  {
   "cell_type": "code",
   "execution_count": 82,
   "id": "graphic-sweden",
   "metadata": {},
   "outputs": [
    {
     "ename": "KeyError",
     "evalue": "\"None of [Index([     'surface_total_in_m2',    'surface_covered_in_m2',\\n                         'Garage',                   'Estado',\\n                         'Pileta',                   'Balcon',\\n                       'Gimnasio',                  'Quincho',\\n                       'Parrilla',                    'Patio',\\n                       'Lavadero', 'Tipo_Propiedad_apartment',\\n           'Tipo_Propiedad_house',     'Tipo_Propiedad_store',\\n                     'dist_subte',                        2.0,\\n                              3.0,                        4.0,\\n                              5.0,                        6.0,\\n                              7.0,                        8.0,\\n                              9.0,                       10.0,\\n                      'Caballito',                  'Palermo',\\n                       'Belgrano',                 'Recoleta',\\n                         'Flores',                'Balvanera',\\n                        'Almagro',             'Villa Crespo',\\n                  'Villa Urquiza',                'San Telmo',\\n                       'Floresta',                    'Nuñez',\\n                     'Villa Luro',            'San Cristóbal',\\n                       'Saavedra',                 'Barracas',\\n                   'Villa Devoto',              'San Nicolás',\\n                      'Monserrat',         'Villa del Parque',\\n                        'Liniers',                'Mataderos',\\n                     'Colegiales',                    'Boedo',\\n               'Parque Patricios',         'Parque Chacabuco',\\n                        'Coghlan',                'Chacarita',\\n                       'Paternal',             'Villa Lugano',\\n                   'Constitución',         'Villa Pueyrredón',\\n                           'Boca',                   'Retiro',\\n              'Parque Avellaneda',             'Monte Castro',\\n                  'Villa Ortuzar',        'Villa Gral. Mitre',\\n                      'Versalles',         'Villa Santa Rita',\\n                     'Villa Real',          'Vélez Sársfield',\\n                  'Nueva Pompeya',              'Parque Chas',\\n                  'Puerto Madero',          'Villa Riachuelo',\\n                  'Villa Soldati'],\\n      dtype='object')] are in the [columns]\"",
     "output_type": "error",
     "traceback": [
      "\u001b[1;31m---------------------------------------------------------------------------\u001b[0m",
      "\u001b[1;31mKeyError\u001b[0m                                  Traceback (most recent call last)",
      "\u001b[1;32m<ipython-input-82-967ebe3b304c>\u001b[0m in \u001b[0;36m<module>\u001b[1;34m\u001b[0m\n\u001b[1;32m----> 1\u001b[1;33m \u001b[0m_\u001b[0m \u001b[1;33m=\u001b[0m \u001b[0mtrain_test_lasso\u001b[0m\u001b[1;33m(\u001b[0m\u001b[0mdata2\u001b[0m\u001b[1;33m,\u001b[0m \u001b[0mfeature_cols_CABA\u001b[0m\u001b[1;33m,\u001b[0m \u001b[1;32mTrue\u001b[0m\u001b[1;33m)\u001b[0m\u001b[1;33m\u001b[0m\u001b[1;33m\u001b[0m\u001b[0m\n\u001b[0m\u001b[0;32m      2\u001b[0m \u001b[0mprint\u001b[0m\u001b[1;33m(\u001b[0m\u001b[1;34m\"\"\u001b[0m\u001b[1;33m)\u001b[0m\u001b[1;33m\u001b[0m\u001b[1;33m\u001b[0m\u001b[0m\n\u001b[0;32m      3\u001b[0m \u001b[0m_\u001b[0m \u001b[1;33m=\u001b[0m \u001b[0mtrain_test_lasso\u001b[0m\u001b[1;33m(\u001b[0m\u001b[0mdata2\u001b[0m\u001b[1;33m,\u001b[0m \u001b[0mfeature_cols_CABA\u001b[0m\u001b[1;33m)\u001b[0m\u001b[1;33m\u001b[0m\u001b[1;33m\u001b[0m\u001b[0m\n\u001b[0;32m      4\u001b[0m \u001b[0mprint\u001b[0m\u001b[1;33m(\u001b[0m\u001b[1;34m\"\"\u001b[0m\u001b[1;33m)\u001b[0m\u001b[1;33m\u001b[0m\u001b[1;33m\u001b[0m\u001b[0m\n\u001b[0;32m      5\u001b[0m \u001b[0m_\u001b[0m \u001b[1;33m=\u001b[0m \u001b[0mtrain_test_lasso\u001b[0m\u001b[1;33m(\u001b[0m\u001b[0mdata2\u001b[0m\u001b[1;33m,\u001b[0m \u001b[0mfeature_cols_CABA\u001b[0m\u001b[1;33m)\u001b[0m\u001b[1;33m\u001b[0m\u001b[1;33m\u001b[0m\u001b[0m\n",
      "\u001b[1;32m<ipython-input-81-7663e75201b1>\u001b[0m in \u001b[0;36mtrain_test_lasso\u001b[1;34m(data2, feature_cols, graph)\u001b[0m\n\u001b[0;32m      1\u001b[0m \u001b[1;32mdef\u001b[0m \u001b[0mtrain_test_lasso\u001b[0m\u001b[1;33m(\u001b[0m\u001b[0mdata2\u001b[0m\u001b[1;33m,\u001b[0m \u001b[0mfeature_cols\u001b[0m\u001b[1;33m,\u001b[0m \u001b[0mgraph\u001b[0m\u001b[1;33m=\u001b[0m\u001b[1;32mFalse\u001b[0m\u001b[1;33m)\u001b[0m\u001b[1;33m:\u001b[0m\u001b[1;33m\u001b[0m\u001b[1;33m\u001b[0m\u001b[0m\n\u001b[1;32m----> 2\u001b[1;33m     \u001b[0mX\u001b[0m \u001b[1;33m=\u001b[0m \u001b[0mdata2\u001b[0m\u001b[1;33m[\u001b[0m\u001b[0mfeature_cols\u001b[0m\u001b[1;33m]\u001b[0m\u001b[1;33m\u001b[0m\u001b[1;33m\u001b[0m\u001b[0m\n\u001b[0m\u001b[0;32m      3\u001b[0m     \u001b[0my\u001b[0m \u001b[1;33m=\u001b[0m \u001b[0mdata2\u001b[0m\u001b[1;33m.\u001b[0m\u001b[0mPrecio_por_m2\u001b[0m\u001b[1;33m\u001b[0m\u001b[1;33m\u001b[0m\u001b[0m\n\u001b[0;32m      4\u001b[0m     \u001b[0mX_train\u001b[0m\u001b[1;33m,\u001b[0m \u001b[0mX_test\u001b[0m\u001b[1;33m,\u001b[0m \u001b[0my_train\u001b[0m\u001b[1;33m,\u001b[0m \u001b[0my_test\u001b[0m \u001b[1;33m=\u001b[0m \u001b[0mtrain_test_split\u001b[0m\u001b[1;33m(\u001b[0m\u001b[0mX\u001b[0m\u001b[1;33m,\u001b[0m \u001b[0my\u001b[0m\u001b[1;33m,\u001b[0m \u001b[0mshuffle\u001b[0m\u001b[1;33m=\u001b[0m\u001b[1;32mTrue\u001b[0m\u001b[1;33m)\u001b[0m\u001b[1;33m\u001b[0m\u001b[1;33m\u001b[0m\u001b[0m\n\u001b[0;32m      5\u001b[0m     \u001b[0mmodel\u001b[0m \u001b[1;33m=\u001b[0m \u001b[0mlinear_model\u001b[0m\u001b[1;33m.\u001b[0m\u001b[0mLassoCV\u001b[0m\u001b[1;33m(\u001b[0m\u001b[0malphas\u001b[0m\u001b[1;33m=\u001b[0m\u001b[0mnp\u001b[0m\u001b[1;33m.\u001b[0m\u001b[0mlinspace\u001b[0m\u001b[1;33m(\u001b[0m\u001b[1;36m0.01\u001b[0m\u001b[1;33m,\u001b[0m\u001b[1;36m100\u001b[0m\u001b[1;33m,\u001b[0m \u001b[1;36m1000\u001b[0m\u001b[1;33m)\u001b[0m\u001b[1;33m,\u001b[0m \u001b[0mcv\u001b[0m\u001b[1;33m=\u001b[0m\u001b[1;36m3\u001b[0m\u001b[1;33m,\u001b[0m \u001b[0mnormalize\u001b[0m\u001b[1;33m=\u001b[0m\u001b[1;32mTrue\u001b[0m\u001b[1;33m)\u001b[0m\u001b[1;33m\u001b[0m\u001b[1;33m\u001b[0m\u001b[0m\n",
      "\u001b[1;32m~\\anaconda3\\envs\\dhdsblend2021\\lib\\site-packages\\pandas\\core\\frame.py\u001b[0m in \u001b[0;36m__getitem__\u001b[1;34m(self, key)\u001b[0m\n\u001b[0;32m   2910\u001b[0m             \u001b[1;32mif\u001b[0m \u001b[0mis_iterator\u001b[0m\u001b[1;33m(\u001b[0m\u001b[0mkey\u001b[0m\u001b[1;33m)\u001b[0m\u001b[1;33m:\u001b[0m\u001b[1;33m\u001b[0m\u001b[1;33m\u001b[0m\u001b[0m\n\u001b[0;32m   2911\u001b[0m                 \u001b[0mkey\u001b[0m \u001b[1;33m=\u001b[0m \u001b[0mlist\u001b[0m\u001b[1;33m(\u001b[0m\u001b[0mkey\u001b[0m\u001b[1;33m)\u001b[0m\u001b[1;33m\u001b[0m\u001b[1;33m\u001b[0m\u001b[0m\n\u001b[1;32m-> 2912\u001b[1;33m             \u001b[0mindexer\u001b[0m \u001b[1;33m=\u001b[0m \u001b[0mself\u001b[0m\u001b[1;33m.\u001b[0m\u001b[0mloc\u001b[0m\u001b[1;33m.\u001b[0m\u001b[0m_get_listlike_indexer\u001b[0m\u001b[1;33m(\u001b[0m\u001b[0mkey\u001b[0m\u001b[1;33m,\u001b[0m \u001b[0maxis\u001b[0m\u001b[1;33m=\u001b[0m\u001b[1;36m1\u001b[0m\u001b[1;33m,\u001b[0m \u001b[0mraise_missing\u001b[0m\u001b[1;33m=\u001b[0m\u001b[1;32mTrue\u001b[0m\u001b[1;33m)\u001b[0m\u001b[1;33m[\u001b[0m\u001b[1;36m1\u001b[0m\u001b[1;33m]\u001b[0m\u001b[1;33m\u001b[0m\u001b[1;33m\u001b[0m\u001b[0m\n\u001b[0m\u001b[0;32m   2913\u001b[0m \u001b[1;33m\u001b[0m\u001b[0m\n\u001b[0;32m   2914\u001b[0m         \u001b[1;31m# take() does not accept boolean indexers\u001b[0m\u001b[1;33m\u001b[0m\u001b[1;33m\u001b[0m\u001b[1;33m\u001b[0m\u001b[0m\n",
      "\u001b[1;32m~\\anaconda3\\envs\\dhdsblend2021\\lib\\site-packages\\pandas\\core\\indexing.py\u001b[0m in \u001b[0;36m_get_listlike_indexer\u001b[1;34m(self, key, axis, raise_missing)\u001b[0m\n\u001b[0;32m   1252\u001b[0m             \u001b[0mkeyarr\u001b[0m\u001b[1;33m,\u001b[0m \u001b[0mindexer\u001b[0m\u001b[1;33m,\u001b[0m \u001b[0mnew_indexer\u001b[0m \u001b[1;33m=\u001b[0m \u001b[0max\u001b[0m\u001b[1;33m.\u001b[0m\u001b[0m_reindex_non_unique\u001b[0m\u001b[1;33m(\u001b[0m\u001b[0mkeyarr\u001b[0m\u001b[1;33m)\u001b[0m\u001b[1;33m\u001b[0m\u001b[1;33m\u001b[0m\u001b[0m\n\u001b[0;32m   1253\u001b[0m \u001b[1;33m\u001b[0m\u001b[0m\n\u001b[1;32m-> 1254\u001b[1;33m         \u001b[0mself\u001b[0m\u001b[1;33m.\u001b[0m\u001b[0m_validate_read_indexer\u001b[0m\u001b[1;33m(\u001b[0m\u001b[0mkeyarr\u001b[0m\u001b[1;33m,\u001b[0m \u001b[0mindexer\u001b[0m\u001b[1;33m,\u001b[0m \u001b[0maxis\u001b[0m\u001b[1;33m,\u001b[0m \u001b[0mraise_missing\u001b[0m\u001b[1;33m=\u001b[0m\u001b[0mraise_missing\u001b[0m\u001b[1;33m)\u001b[0m\u001b[1;33m\u001b[0m\u001b[1;33m\u001b[0m\u001b[0m\n\u001b[0m\u001b[0;32m   1255\u001b[0m         \u001b[1;32mreturn\u001b[0m \u001b[0mkeyarr\u001b[0m\u001b[1;33m,\u001b[0m \u001b[0mindexer\u001b[0m\u001b[1;33m\u001b[0m\u001b[1;33m\u001b[0m\u001b[0m\n\u001b[0;32m   1256\u001b[0m \u001b[1;33m\u001b[0m\u001b[0m\n",
      "\u001b[1;32m~\\anaconda3\\envs\\dhdsblend2021\\lib\\site-packages\\pandas\\core\\indexing.py\u001b[0m in \u001b[0;36m_validate_read_indexer\u001b[1;34m(self, key, indexer, axis, raise_missing)\u001b[0m\n\u001b[0;32m   1296\u001b[0m             \u001b[1;32mif\u001b[0m \u001b[0mmissing\u001b[0m \u001b[1;33m==\u001b[0m \u001b[0mlen\u001b[0m\u001b[1;33m(\u001b[0m\u001b[0mindexer\u001b[0m\u001b[1;33m)\u001b[0m\u001b[1;33m:\u001b[0m\u001b[1;33m\u001b[0m\u001b[1;33m\u001b[0m\u001b[0m\n\u001b[0;32m   1297\u001b[0m                 \u001b[0maxis_name\u001b[0m \u001b[1;33m=\u001b[0m \u001b[0mself\u001b[0m\u001b[1;33m.\u001b[0m\u001b[0mobj\u001b[0m\u001b[1;33m.\u001b[0m\u001b[0m_get_axis_name\u001b[0m\u001b[1;33m(\u001b[0m\u001b[0maxis\u001b[0m\u001b[1;33m)\u001b[0m\u001b[1;33m\u001b[0m\u001b[1;33m\u001b[0m\u001b[0m\n\u001b[1;32m-> 1298\u001b[1;33m                 \u001b[1;32mraise\u001b[0m \u001b[0mKeyError\u001b[0m\u001b[1;33m(\u001b[0m\u001b[1;34mf\"None of [{key}] are in the [{axis_name}]\"\u001b[0m\u001b[1;33m)\u001b[0m\u001b[1;33m\u001b[0m\u001b[1;33m\u001b[0m\u001b[0m\n\u001b[0m\u001b[0;32m   1299\u001b[0m \u001b[1;33m\u001b[0m\u001b[0m\n\u001b[0;32m   1300\u001b[0m             \u001b[1;31m# We (temporarily) allow for some missing keys with .loc, except in\u001b[0m\u001b[1;33m\u001b[0m\u001b[1;33m\u001b[0m\u001b[1;33m\u001b[0m\u001b[0m\n",
      "\u001b[1;31mKeyError\u001b[0m: \"None of [Index([     'surface_total_in_m2',    'surface_covered_in_m2',\\n                         'Garage',                   'Estado',\\n                         'Pileta',                   'Balcon',\\n                       'Gimnasio',                  'Quincho',\\n                       'Parrilla',                    'Patio',\\n                       'Lavadero', 'Tipo_Propiedad_apartment',\\n           'Tipo_Propiedad_house',     'Tipo_Propiedad_store',\\n                     'dist_subte',                        2.0,\\n                              3.0,                        4.0,\\n                              5.0,                        6.0,\\n                              7.0,                        8.0,\\n                              9.0,                       10.0,\\n                      'Caballito',                  'Palermo',\\n                       'Belgrano',                 'Recoleta',\\n                         'Flores',                'Balvanera',\\n                        'Almagro',             'Villa Crespo',\\n                  'Villa Urquiza',                'San Telmo',\\n                       'Floresta',                    'Nuñez',\\n                     'Villa Luro',            'San Cristóbal',\\n                       'Saavedra',                 'Barracas',\\n                   'Villa Devoto',              'San Nicolás',\\n                      'Monserrat',         'Villa del Parque',\\n                        'Liniers',                'Mataderos',\\n                     'Colegiales',                    'Boedo',\\n               'Parque Patricios',         'Parque Chacabuco',\\n                        'Coghlan',                'Chacarita',\\n                       'Paternal',             'Villa Lugano',\\n                   'Constitución',         'Villa Pueyrredón',\\n                           'Boca',                   'Retiro',\\n              'Parque Avellaneda',             'Monte Castro',\\n                  'Villa Ortuzar',        'Villa Gral. Mitre',\\n                      'Versalles',         'Villa Santa Rita',\\n                     'Villa Real',          'Vélez Sársfield',\\n                  'Nueva Pompeya',              'Parque Chas',\\n                  'Puerto Madero',          'Villa Riachuelo',\\n                  'Villa Soldati'],\\n      dtype='object')] are in the [columns]\""
     ]
    }
   ],
   "source": [
    "_ = train_test_lasso(data2, feature_cols_CABA, True)\n",
    "print(\"\")\n",
    "_ = train_test_lasso(data2, feature_cols_CABA)\n",
    "print(\"\")\n",
    "_ = train_test_lasso(data2, feature_cols_CABA)"
   ]
  },
  {
   "cell_type": "markdown",
   "id": "straight-cause",
   "metadata": {},
   "source": [
    "### Predicciones con Ridge CV"
   ]
  },
  {
   "cell_type": "code",
   "execution_count": null,
   "id": "dependent-cylinder",
   "metadata": {},
   "outputs": [],
   "source": [
    "def train_test_ridgecv(data, feature_cols, graph=False):\n",
    "    X = data[feature_cols]\n",
    "    y = data.Precio_por_m2\n",
    "    X_train, X_test, y_train, y_test = train_test_split(X, y, shuffle=True)\n",
    "    model = linear_model.RidgeCV(alphas=np.linspace(0.01,100, 1000), cv=3, normalize=True)\n",
    "    model.fit(X_train, y_train)\n",
    "    y_pred = model.predict(X_test)\n",
    "    if graph:\n",
    "        plt.plot(y_test,y_test, '-.', c='grey')\n",
    "        plt.scatter(y_pred, y_test, s=30, c='r', marker='+', zorder=10)\n",
    "        plt.xlabel(\"Predicciones usando features\")\n",
    "        plt.ylabel(\"Valores reales precio m2\")\n",
    "        plt.show()\n",
    "        \n",
    "    print (\"y_test sample: \", y_test.values[0:100])\n",
    "    print (\"y_pred sample: \", y_pred[0:100].astype(int) )\n",
    "    print ('MAE: ', metrics.mean_absolute_error(y_test, y_pred))\n",
    "    print ('MSE: ', metrics.mean_squared_error(y_test, y_pred))\n",
    "    print ('RMSE:', np.sqrt(metrics.mean_squared_error(y_test, y_pred)))\n",
    "    print ('R2:  ', metrics.r2_score(y_test, y_pred))\n",
    "    return np.sqrt(metrics.mean_squared_error(y_test, y_pred))"
   ]
  },
  {
   "cell_type": "code",
   "execution_count": null,
   "id": "checked-stretch",
   "metadata": {},
   "outputs": [],
   "source": [
    "_ = train_test_ridgecv(data2, feature_cols_CABA, True)\n",
    "print(\"\")"
   ]
  },
  {
   "cell_type": "code",
   "execution_count": null,
   "id": "square-upset",
   "metadata": {},
   "outputs": [],
   "source": []
  }
 ],
 "metadata": {
  "kernelspec": {
   "display_name": "Python 3",
   "language": "python",
   "name": "python3"
  },
  "language_info": {
   "codemirror_mode": {
    "name": "ipython",
    "version": 3
   },
   "file_extension": ".py",
   "mimetype": "text/x-python",
   "name": "python",
   "nbconvert_exporter": "python",
   "pygments_lexer": "ipython3",
   "version": "3.8.5"
  }
 },
 "nbformat": 4,
 "nbformat_minor": 5
}
